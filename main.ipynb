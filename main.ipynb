{
 "cells": [
  {
   "attachments": {},
   "cell_type": "markdown",
   "metadata": {
    "collapsed": false,
    "pycharm": {
     "name": "#%% md\n"
    }
   },
   "source": [
    "<link rel=\"preconnect\" href=\"https://fonts.googleapis.com\">\n",
    "<link rel=\"preconnect\" href=\"https://fonts.gstatic.com\" crossorigin>\n",
    "<link href=\"https://fonts.googleapis.com/css2?family=Raleway:wght@100&display=swap\" rel=\"stylesheet\">\n",
    "\n",
    "<h1 style=\"text-transform: uppercase; text-align: center; font-weight: 100;\">\n",
    "Linear regression in Tensorflow</h1>\n",
    "<p style=\"text-align: center; font-weight: 100;\">Predicting Volkswagen car prices</p><br/>\n",
    "\n",
    "Project requirements:\n",
    "- Only requirement is: minimum 10k rows\n",
    "- Any type of neural network - classical but convolutional and recurrent, better grade\n",
    "- Presentation of project, beside practical questions about model there would be also theoretical.\n",
    "The topic is free.\n",
    "\n",
    "Theory required for project presentation:\n",
    "- Practical side.\n",
    "- Discuss the scheme of an artificial neuron.\n",
    "- Activation function, why it is so important.\n",
    "- Explain how does neuron learn - steps, algorithm?\n",
    "- How does basic neural network work? (The more you know the better, as well as more complex).\n",
    "- Discuss the algorithm of neural network using backpropagation learning method. (metoda wstecznej propagacji błędów)\n",
    "- What subsets and why are the data divided into?\n",
    "Knowledge of ML, statistics."
   ]
  },
  {
   "attachments": {},
   "cell_type": "markdown",
   "metadata": {
    "collapsed": false,
    "pycharm": {
     "name": "#%% md\n"
    }
   },
   "source": [
    "Data source: data were taken from the popular Polish automotive website Otomoto (https://www.otomoto.pl/)."
   ]
  },
  {
   "attachments": {},
   "cell_type": "markdown",
   "metadata": {
    "pycharm": {
     "name": "#%% md\n"
    }
   },
   "source": [
    "1. Import libraries and create dataframe:"
   ]
  },
  {
   "cell_type": "code",
   "execution_count": 153,
   "metadata": {
    "collapsed": true,
    "pycharm": {
     "name": "#%%\n"
    }
   },
   "outputs": [
    {
     "name": "stdout",
     "output_type": "stream",
     "text": [
      "np: 1.22.4, pd: 1.4.2, tf: 2.11.0, mpl: 3.7.1, sb: 0.12.2, sm: 0.13.5\n",
      "Libs loaded.\n",
      "Unnamed: 0       int64\n",
      "Price            int64\n",
      "Year             int64\n",
      "Mileage          int64\n",
      "Tank capacity    int64\n",
      "Fuel type        int64\n",
      "Model            int64\n",
      "Estimation       int64\n",
      "dtype: object\n"
     ]
    },
    {
     "data": {
      "text/html": [
       "<div>\n",
       "<style scoped>\n",
       "    .dataframe tbody tr th:only-of-type {\n",
       "        vertical-align: middle;\n",
       "    }\n",
       "\n",
       "    .dataframe tbody tr th {\n",
       "        vertical-align: top;\n",
       "    }\n",
       "\n",
       "    .dataframe thead th {\n",
       "        text-align: right;\n",
       "    }\n",
       "</style>\n",
       "<table border=\"1\" class=\"dataframe\">\n",
       "  <thead>\n",
       "    <tr style=\"text-align: right;\">\n",
       "      <th></th>\n",
       "      <th>Price</th>\n",
       "      <th>Year</th>\n",
       "      <th>Mileage</th>\n",
       "      <th>Tank capacity</th>\n",
       "      <th>Fuel type</th>\n",
       "      <th>Model</th>\n",
       "      <th>Estimation</th>\n",
       "    </tr>\n",
       "  </thead>\n",
       "  <tbody>\n",
       "    <tr>\n",
       "      <th>0</th>\n",
       "      <td>24900</td>\n",
       "      <td>2010</td>\n",
       "      <td>166000</td>\n",
       "      <td>1390</td>\n",
       "      <td>1</td>\n",
       "      <td>16</td>\n",
       "      <td>0</td>\n",
       "    </tr>\n",
       "    <tr>\n",
       "      <th>1</th>\n",
       "      <td>16500</td>\n",
       "      <td>2007</td>\n",
       "      <td>194000</td>\n",
       "      <td>1968</td>\n",
       "      <td>7</td>\n",
       "      <td>39</td>\n",
       "      <td>0</td>\n",
       "    </tr>\n",
       "    <tr>\n",
       "      <th>2</th>\n",
       "      <td>364510</td>\n",
       "      <td>2022</td>\n",
       "      <td>5400</td>\n",
       "      <td>1968</td>\n",
       "      <td>7</td>\n",
       "      <td>8</td>\n",
       "      <td>0</td>\n",
       "    </tr>\n",
       "    <tr>\n",
       "      <th>3</th>\n",
       "      <td>9999</td>\n",
       "      <td>2005</td>\n",
       "      <td>196425</td>\n",
       "      <td>1390</td>\n",
       "      <td>1</td>\n",
       "      <td>35</td>\n",
       "      <td>2</td>\n",
       "    </tr>\n",
       "    <tr>\n",
       "      <th>4</th>\n",
       "      <td>39900</td>\n",
       "      <td>2010</td>\n",
       "      <td>227000</td>\n",
       "      <td>1968</td>\n",
       "      <td>7</td>\n",
       "      <td>32</td>\n",
       "      <td>0</td>\n",
       "    </tr>\n",
       "    <tr>\n",
       "      <th>...</th>\n",
       "      <td>...</td>\n",
       "      <td>...</td>\n",
       "      <td>...</td>\n",
       "      <td>...</td>\n",
       "      <td>...</td>\n",
       "      <td>...</td>\n",
       "      <td>...</td>\n",
       "    </tr>\n",
       "    <tr>\n",
       "      <th>14910</th>\n",
       "      <td>119500</td>\n",
       "      <td>2020</td>\n",
       "      <td>52000</td>\n",
       "      <td>1498</td>\n",
       "      <td>1</td>\n",
       "      <td>41</td>\n",
       "      <td>2</td>\n",
       "    </tr>\n",
       "    <tr>\n",
       "      <th>14911</th>\n",
       "      <td>31000</td>\n",
       "      <td>2002</td>\n",
       "      <td>511000</td>\n",
       "      <td>2461</td>\n",
       "      <td>7</td>\n",
       "      <td>9</td>\n",
       "      <td>0</td>\n",
       "    </tr>\n",
       "    <tr>\n",
       "      <th>14912</th>\n",
       "      <td>23500</td>\n",
       "      <td>2011</td>\n",
       "      <td>223000</td>\n",
       "      <td>1390</td>\n",
       "      <td>1</td>\n",
       "      <td>16</td>\n",
       "      <td>1</td>\n",
       "    </tr>\n",
       "    <tr>\n",
       "      <th>14913</th>\n",
       "      <td>29800</td>\n",
       "      <td>2012</td>\n",
       "      <td>190000</td>\n",
       "      <td>1598</td>\n",
       "      <td>7</td>\n",
       "      <td>16</td>\n",
       "      <td>2</td>\n",
       "    </tr>\n",
       "    <tr>\n",
       "      <th>14914</th>\n",
       "      <td>67600</td>\n",
       "      <td>1998</td>\n",
       "      <td>234700</td>\n",
       "      <td>2461</td>\n",
       "      <td>7</td>\n",
       "      <td>9</td>\n",
       "      <td>0</td>\n",
       "    </tr>\n",
       "  </tbody>\n",
       "</table>\n",
       "<p>14915 rows × 7 columns</p>\n",
       "</div>"
      ],
      "text/plain": [
       "        Price  Year  Mileage  Tank capacity  Fuel type  Model  Estimation\n",
       "0       24900  2010   166000           1390          1     16           0\n",
       "1       16500  2007   194000           1968          7     39           0\n",
       "2      364510  2022     5400           1968          7      8           0\n",
       "3        9999  2005   196425           1390          1     35           2\n",
       "4       39900  2010   227000           1968          7     32           0\n",
       "...       ...   ...      ...            ...        ...    ...         ...\n",
       "14910  119500  2020    52000           1498          1     41           2\n",
       "14911   31000  2002   511000           2461          7      9           0\n",
       "14912   23500  2011   223000           1390          1     16           1\n",
       "14913   29800  2012   190000           1598          7     16           2\n",
       "14914   67600  1998   234700           2461          7      9           0\n",
       "\n",
       "[14915 rows x 7 columns]"
      ]
     },
     "execution_count": 153,
     "metadata": {},
     "output_type": "execute_result"
    }
   ],
   "source": [
    "import numpy as np\n",
    "import pandas as pd\n",
    "import matplotlib as mpl\n",
    "import matplotlib.pyplot as plt\n",
    "import seaborn as sb\n",
    "import statsmodels as sm\n",
    "import tensorflow as tf\n",
    "# from model import VolkswagenModel\n",
    "# from colorama import init, Fore, Style\n",
    "\n",
    "print(f\"np: {np.__version__}, pd: {pd.__version__}, tf: {tf.__version__}, mpl: {mpl.__version__}, sb: {sb.__version__}, sm: {sm.__version__}\")\n",
    "print(\"Libs loaded.\")\n",
    "\n",
    "data = pd.read_csv(\"./data/otomoto.csv\")\n",
    "df = pd.DataFrame(data)\n",
    "df = df.drop(df.columns[0], axis=1)\n",
    "df.columns = ['Price', 'Year', 'Mileage', 'Tank capacity', 'Fuel type', 'Model', 'Estimation']\n",
    "print(data.dtypes)\n",
    "df"
   ]
  },
  {
   "attachments": {},
   "cell_type": "markdown",
   "metadata": {
    "pycharm": {
     "name": "#%% md\n"
    }
   },
   "source": [
    "2. Clean data:\n",
    "\n",
    "    Data was cleaned previously in 'scratchpad.py' file and now all the records are represented by integers(documentation of each column values is located in 'model.py' file). Values ​​of 0 represent an error in reading data. Column \"Estimation\" contains a lot of 0 values, but this is due to the fact that not every article on the website contained such information."
   ]
  },
  {
   "cell_type": "code",
   "execution_count": 154,
   "metadata": {
    "pycharm": {
     "name": "#%%\n"
    }
   },
   "outputs": [
    {
     "name": "stdout",
     "output_type": "stream",
     "text": [
      "0\n"
     ]
    }
   ],
   "source": [
    "counter = 0\n",
    "for index, row in df.iterrows():\n",
    "    if row[\"Price\"] == 0 or row[\"Year\"] == 0 or row[\"Mileage\"] == 0 or row[\"Tank capacity\"] == 0 or row[\"Model\"] == 0: \n",
    "        counter += 1\n",
    "print(counter)"
   ]
  },
  {
   "attachments": {},
   "cell_type": "markdown",
   "metadata": {
    "pycharm": {
     "name": "#%% md\n"
    }
   },
   "source": [
    "3. Price plot:"
   ]
  },
  {
   "cell_type": "code",
   "execution_count": 155,
   "metadata": {
    "pycharm": {
     "name": "#%%\n"
    }
   },
   "outputs": [
    {
     "name": "stdout",
     "output_type": "stream",
     "text": [
      "Lowest price value: 1500. Highest price value: 570000.\n"
     ]
    },
    {
     "data": {
      "image/png": "[encoded data removed]",
      "text/plain": [
       "<Figure size 432x288 with 1 Axes>"
      ]
     },
     "metadata": {
      "needs_background": "light"
     },
     "output_type": "display_data"
    }
   ],
   "source": [
    "min = df[\"Price\"].min()\n",
    "max = df[\"Price\"].max()\n",
    "print(f\"Lowest price value: {min}. Highest price value: {max}.\")\n",
    "price_plot = df[\"Price\"].plot.hist(bins=57, grid=True)\n",
    "price_plot.set_xlabel(\"Price\")\n",
    "price_plot.set_ylabel(\"Number of observations\")\n",
    "plt.show()"
   ]
  },
  {
   "attachments": {},
   "cell_type": "markdown",
   "metadata": {
    "pycharm": {
     "name": "#%% md\n"
    }
   },
   "source": [
    "4. Year plot:"
   ]
  },
  {
   "cell_type": "code",
   "execution_count": 156,
   "metadata": {
    "pycharm": {
     "name": "#%%\n"
    }
   },
   "outputs": [
    {
     "name": "stdout",
     "output_type": "stream",
     "text": [
      "Lowest year value: 1958. Highest year value: 2023.\n"
     ]
    },
    {
     "data": {
      "image/png": "[encoded data removed]",
      "text/plain": [
       "<Figure size 432x288 with 1 Axes>"
      ]
     },
     "metadata": {
      "needs_background": "light"
     },
     "output_type": "display_data"
    }
   ],
   "source": [
    "min = df[\"Year\"].min()\n",
    "max = df[\"Year\"].max()\n",
    "print(f\"Lowest year value: {min}. Highest year value: {max}.\")\n",
    "year_plot = df[\"Year\"].plot.hist(bins=(max-min), grid=True)\n",
    "year_plot.set_xlabel(\"Year\")\n",
    "year_plot.set_ylabel(\"Number of observations\")\n",
    "plt.show()"
   ]
  },
  {
   "attachments": {},
   "cell_type": "markdown",
   "metadata": {
    "pycharm": {
     "name": "#%% md\n"
    }
   },
   "source": [
    "5. Mileage plot:"
   ]
  },
  {
   "cell_type": "code",
   "execution_count": 157,
   "metadata": {
    "pycharm": {
     "name": "#%%\n"
    }
   },
   "outputs": [
    {
     "name": "stdout",
     "output_type": "stream",
     "text": [
      "Lowest mileage value: 1. Highest mileage value: 700000\n"
     ]
    },
    {
     "data": {
      "image/png": "[encoded data removed]",
      "text/plain": [
       "<Figure size 432x288 with 1 Axes>"
      ]
     },
     "metadata": {
      "needs_background": "light"
     },
     "output_type": "display_data"
    }
   ],
   "source": [
    "min = df[\"Mileage\"].min()\n",
    "max = df[\"Mileage\"].max()\n",
    "print(f\"Lowest mileage value: {min}. Highest mileage value: {max}\")\n",
    "mileage_plot = df[\"Mileage\"].plot.hist(bins=70, grid=True)\n",
    "mileage_plot.set_xlabel(\"Mileage\")\n",
    "mileage_plot.set_ylabel(\"Number of observations\")\n",
    "plt.show()"
   ]
  },
  {
   "attachments": {},
   "cell_type": "markdown",
   "metadata": {
    "pycharm": {
     "name": "#%% md\n"
    }
   },
   "source": [
    "6. Tank capacity plot:"
   ]
  },
  {
   "cell_type": "code",
   "execution_count": 161,
   "metadata": {
    "pycharm": {
     "name": "#%%\n"
    }
   },
   "outputs": [
    {
     "name": "stdout",
     "output_type": "stream",
     "text": [
      "Lowest tank capacity value: 77. Highest tank capacity value: 5998\n"
     ]
    },
    {
     "data": {
      "image/png": "[encoded data removed]",
      "text/plain": [
       "<Figure size 432x288 with 1 Axes>"
      ]
     },
     "metadata": {
      "needs_background": "light"
     },
     "output_type": "display_data"
    }
   ],
   "source": [
    "min = df[\"Tank capacity\"].min()\n",
    "max = df[\"Tank capacity\"].max()\n",
    "print(f\"Lowest tank capacity value: {min}. Highest tank capacity value: {max}\")\n",
    "mileage_plot = df[\"Tank capacity\"].plot.hist(bins=29,grid=True)\n",
    "mileage_plot.set_xlabel(\"Tank capacity\")\n",
    "mileage_plot.set_ylabel(\"Number of observations\")\n",
    "plt.show()\n",
    "\n",
    "# Trzeba jeszcze dopasować przedziały "
   ]
  },
  {
   "attachments": {},
   "cell_type": "markdown",
   "metadata": {
    "pycharm": {
     "name": "#%% md\n"
    }
   },
   "source": [
    "7. Fuel type plot:"
   ]
  },
  {
   "attachments": {},
   "cell_type": "markdown",
   "metadata": {
    "pycharm": {
     "name": "#%% md\n"
    }
   },
   "source": [
    "8. Models plot:"
   ]
  },
  {
   "attachments": {},
   "cell_type": "markdown",
   "metadata": {
    "pycharm": {
     "name": "#%% md\n"
    }
   },
   "source": [
    "9. Estimation plot:"
   ]
  }
 ],
 "metadata": {
  "kernelspec": {
   "display_name": "Python 3",
   "language": "python",
   "name": "python3"
  },
  "language_info": {
   "codemirror_mode": {
    "name": "ipython",
    "version": 3
   },
   "file_extension": ".py",
   "mimetype": "text/x-python",
   "name": "python",
   "nbconvert_exporter": "python",
   "pygments_lexer": "ipython3",
   "version": "3.10.10"
  }
 },
 "nbformat": 4,
 "nbformat_minor": 0
}