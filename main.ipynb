{
 "cells": [
  {
   "cell_type": "markdown",
   "metadata": {
    "collapsed": false,
    "pycharm": {
     "name": "#%% md\n"
    }
   },
   "source": [
    "Project requirements:\n",
    "- Only requirement is: minimum 10k rows\n",
    "- Any type of neural network - classical but convolutional and recurrent, better grade\n",
    "- Presentation of project, beside practical questions about model there would be also theoretical.\n",
    "The topic is free.\n",
    "\n",
    "Theory required for project presentation:\n",
    "+ Practical side.\n",
    "- Discuss the scheme of an artificial neuron.\n",
    "- Activation function, why it is so important.\n",
    "- Explain how does neuron learn - steps, algorithm?\n",
    "- How does basic neural network work? (The more you know the better, as well as more complex).\n",
    "- Discuss the algorithm of neural network using backpropagation learning method. (metoda wstecznej propagacji błędów)\n",
    "- What subsets and why are the data divided into?\n",
    "Knowledge of ML, statistics."
   ]
  },
  {
   "cell_type": "markdown",
   "metadata": {
    "collapsed": false,
    "pycharm": {
     "name": "#%% md\n"
    }
   },
   "source": [
    "======================================================== Project topic here"
   ]
  },
  {
   "cell_type": "markdown",
   "metadata": {
    "collapsed": false,
    "pycharm": {
     "name": "#%% md\n"
    }
   },
   "source": [
    "Data sources:\n",
    "- Kaggle\n",
    "- Some API\n",
    "\n",
    "1. Pick\n",
    "https://www.kaggle.com/datasets/sogun3/uspollution/code?fbclid=IwAR0L-lPddNzejw9f3psL3TM5KVG80VzbtAiooBQQ6s2BSoCoKOTQKpZJ8HQ\n",
    "\n",
    "2. Pick\n",
    "https://www.kaggle.com/datasets/sshikamaru/fruit-recognition?fbclid=IwAR2WTxYRvhggwcwUALUGHcMMpQ75LSK0IlXdKuDtaRFJTIz8Xc8RBR8skgc"
   ]
  },
  {
   "cell_type": "code",
   "execution_count": 1,
   "metadata": {
    "collapsed": true,
    "pycharm": {
     "name": "#%%\n"
    }
   },
   "outputs": [
    {
     "name": "stdout",
     "output_type": "stream",
     "text": [
      "np: 1.22.4, pd: 1.4.2, tf: 2.11.0, mpl: 3.7.1, sb: 0.12.2, sm: 0.13.5\n",
      "Libs loaded.\n"
     ]
    }
   ],
   "source": [
    "import numpy as np\n",
    "import pandas as pd\n",
    "import matplotlib as mpl\n",
    "import seaborn as sb\n",
    "import statsmodels as sm\n",
    "import tensorflow as tf\n",
    "\n",
    "print(f\"np: {np.__version__}, pd: {pd.__version__}, tf: {tf.__version__}, mpl: {mpl.__version__}, sb: {sb.__version__}, sm: {sm.__version__}\")\n",
    "print(\"Libs loaded.\")"
   ]
  },
  {
   "cell_type": "code",
   "execution_count": 11,
   "metadata": {
    "collapsed": false,
    "pycharm": {
     "name": "#%%\n"
    }
   },
   "outputs": [
    {
     "data": {
      "text/html": [
       "<div>\n",
       "<style scoped>\n",
       "    .dataframe tbody tr th:only-of-type {\n",
       "        vertical-align: middle;\n",
       "    }\n",
       "\n",
       "    .dataframe tbody tr th {\n",
       "        vertical-align: top;\n",
       "    }\n",
       "\n",
       "    .dataframe thead th {\n",
       "        text-align: right;\n",
       "    }\n",
       "</style>\n",
       "<table border=\"1\" class=\"dataframe\">\n",
       "  <thead>\n",
       "    <tr style=\"text-align: right;\">\n",
       "      <th></th>\n",
       "      <th>Price</th>\n",
       "      <th>Year</th>\n",
       "      <th>Mileage</th>\n",
       "      <th>Tank capacity</th>\n",
       "    </tr>\n",
       "  </thead>\n",
       "  <tbody>\n",
       "    <tr>\n",
       "      <th>0</th>\n",
       "      <td>6900</td>\n",
       "      <td>2003</td>\n",
       "      <td>195055</td>\n",
       "      <td>1595</td>\n",
       "    </tr>\n",
       "    <tr>\n",
       "      <th>1</th>\n",
       "      <td>25900</td>\n",
       "      <td>2007</td>\n",
       "      <td>221606</td>\n",
       "      <td>1595</td>\n",
       "    </tr>\n",
       "    <tr>\n",
       "      <th>2</th>\n",
       "      <td>119900</td>\n",
       "      <td>2018</td>\n",
       "      <td>42000</td>\n",
       "      <td>1498</td>\n",
       "    </tr>\n",
       "    <tr>\n",
       "      <th>3</th>\n",
       "      <td>32500</td>\n",
       "      <td>2012</td>\n",
       "      <td>214300</td>\n",
       "      <td>1197</td>\n",
       "    </tr>\n",
       "    <tr>\n",
       "      <th>4</th>\n",
       "      <td>87900</td>\n",
       "      <td>2015</td>\n",
       "      <td>137000</td>\n",
       "      <td>1968</td>\n",
       "    </tr>\n",
       "    <tr>\n",
       "      <th>...</th>\n",
       "      <td>...</td>\n",
       "      <td>...</td>\n",
       "      <td>...</td>\n",
       "      <td>...</td>\n",
       "    </tr>\n",
       "    <tr>\n",
       "      <th>15022</th>\n",
       "      <td>93000</td>\n",
       "      <td>2018</td>\n",
       "      <td>110000</td>\n",
       "      <td>1968</td>\n",
       "    </tr>\n",
       "    <tr>\n",
       "      <th>15023</th>\n",
       "      <td>6000</td>\n",
       "      <td>1999</td>\n",
       "      <td>320000</td>\n",
       "      <td>1896</td>\n",
       "    </tr>\n",
       "    <tr>\n",
       "      <th>15024</th>\n",
       "      <td>15800</td>\n",
       "      <td>2008</td>\n",
       "      <td>293000</td>\n",
       "      <td>1968</td>\n",
       "    </tr>\n",
       "    <tr>\n",
       "      <th>15025</th>\n",
       "      <td>54000</td>\n",
       "      <td>2016</td>\n",
       "      <td>139578</td>\n",
       "      <td>1968</td>\n",
       "    </tr>\n",
       "    <tr>\n",
       "      <th>15026</th>\n",
       "      <td>17000</td>\n",
       "      <td>2005</td>\n",
       "      <td>175750</td>\n",
       "      <td>1984</td>\n",
       "    </tr>\n",
       "  </tbody>\n",
       "</table>\n",
       "<p>15027 rows × 4 columns</p>\n",
       "</div>"
      ],
      "text/plain": [
       "        Price  Year Mileage Tank capacity\n",
       "0        6900  2003  195055          1595\n",
       "1       25900  2007  221606          1595\n",
       "2      119900  2018   42000          1498\n",
       "3       32500  2012  214300          1197\n",
       "4       87900  2015  137000          1968\n",
       "...       ...   ...     ...           ...\n",
       "15022   93000  2018  110000          1968\n",
       "15023    6000  1999  320000          1896\n",
       "15024   15800  2008  293000          1968\n",
       "15025   54000  2016  139578          1968\n",
       "15026   17000  2005  175750          1984\n",
       "\n",
       "[15027 rows x 4 columns]"
      ]
     },
     "execution_count": 11,
     "metadata": {},
     "output_type": "execute_result"
    }
   ],
   "source": [
    "data = pd.read_csv(\"./data/otomoto.csv\")\n",
    "df = pd.DataFrame(data)\n",
    "df = df.drop(df.columns[0], axis=1)\n",
    "df.columns = ['Price', 'Year', 'Mileage', 'Tank capacity']\n",
    "df"
   ]
  },
  {
   "cell_type": "code",
   "execution_count": null,
   "metadata": {
    "collapsed": false,
    "pycharm": {
     "name": "#%%\n"
    }
   },
   "outputs": [],
   "source": [
    "data.dtypes"
   ]
  },
  {
   "cell_type": "code",
   "execution_count": null,
   "metadata": {
    "collapsed": false,
    "pycharm": {
     "name": "#%%\n"
    }
   },
   "outputs": [],
   "source": []
  }
 ],
 "metadata": {
  "kernelspec": {
   "display_name": "Python 3",
   "language": "python",
   "name": "python3"
  },
  "language_info": {
   "codemirror_mode": {
    "name": "ipython",
    "version": 3
   },
   "file_extension": ".py",
   "mimetype": "text/x-python",
   "name": "python",
   "nbconvert_exporter": "python",
   "pygments_lexer": "ipython3",
   "version": "3.10.10"
  }
 },
 "nbformat": 4,
 "nbformat_minor": 0
}
