{
 "cells": [
  {
   "attachments": {},
   "cell_type": "markdown",
   "metadata": {
    "collapsed": false,
    "pycharm": {
     "name": "#%% md\n"
    }
   },
   "source": [
    "<link rel=\"preconnect\" href=\"https://fonts.googleapis.com\">\n",
    "<link rel=\"preconnect\" href=\"https://fonts.gstatic.com\" crossorigin>\n",
    "<link href=\"https://fonts.googleapis.com/css2?family=Raleway:wght@100&display=swap\" rel=\"stylesheet\">\n",
    "\n",
    "<h1 style=\"text-transform: uppercase; text-align: center; font-weight: 100;\">\n",
    "Linear regression in Tensorflow using RNN</h1>\n",
    "<p style=\"text-align: center; font-weight: 100;\">Predicting Volkswagen car prices</p><br/>\n",
    "\n",
    "Project requirements:\n",
    "- Only requirement is: minimum 10k rows\n",
    "- Any type of neural network - classical but convolutional and recurrent, better grade\n",
    "- Presentation of project, beside practical questions about model there would be also theoretical.\n",
    "The topic is free.\n",
    "\n",
    "Theory required for project presentation:\n",
    "- Practical side.\n",
    "- Discuss the scheme of an artificial neuron.\n",
    "- Activation function, why it is so important.\n",
    "- Explain how does neuron learn - steps, algorithm?\n",
    "- How does basic neural network work? (The more you know the better, as well as more complex).\n",
    "- Discuss the algorithm of neural network using backpropagation learning method. (metoda wstecznej propagacji błędów)\n",
    "- What subsets and why are the data divided into?\n",
    "Knowledge of ML, statistics."
   ]
  },
  {
   "attachments": {},
   "cell_type": "markdown",
   "metadata": {
    "collapsed": false,
    "pycharm": {
     "name": "#%% md\n"
    }
   },
   "source": [
    "Data source: data were taken from the popular Polish automotive website Otomoto (https://www.otomoto.pl/)."
   ]
  },
  {
   "attachments": {},
   "cell_type": "markdown",
   "metadata": {
    "pycharm": {
     "name": "#%% md\n"
    }
   },
   "source": [
    "1. Import libraries and create dataframe:"
   ]
  },
  {
   "cell_type": "code",
   "execution_count": 1,
   "metadata": {
    "collapsed": true,
    "pycharm": {
     "name": "#%%\n"
    }
   },
   "outputs": [
    {
     "name": "stdout",
     "output_type": "stream",
     "text": [
      "np: 1.23.2, pd: 1.4.4, tf: 2.11.0, mpl: 3.5.3, sb: 0.12.1, sm: 0.13.2\n",
      "Libs loaded.\n",
      "Data technical info\n",
      "<class 'pandas.core.frame.DataFrame'>\n",
      "RangeIndex: 14915 entries, 0 to 14914\n",
      "Data columns (total 7 columns):\n",
      " #   Column         Non-Null Count  Dtype\n",
      "---  ------         --------------  -----\n",
      " 0   Price          14915 non-null  int64\n",
      " 1   Year           14915 non-null  int64\n",
      " 2   Mileage        14915 non-null  int64\n",
      " 3   Tank capacity  14915 non-null  int64\n",
      " 4   Fuel type      14915 non-null  int64\n",
      " 5   Model          14915 non-null  int64\n",
      " 6   Estimation     14915 non-null  int64\n",
      "dtypes: int64(7)\n",
      "memory usage: 815.8 KB\n"
     ]
    },
    {
     "data": {
      "text/plain": "        Price  Year  Mileage  Tank capacity  Fuel type  Model  Estimation\n0       24900  2010   166000           1390          1     16           0\n1       16500  2007   194000           1968          7     39           0\n2      364510  2022     5400           1968          7      8           0\n3        9999  2005   196425           1390          1     35           2\n4       39900  2010   227000           1968          7     32           0\n...       ...   ...      ...            ...        ...    ...         ...\n14910  119500  2020    52000           1498          1     41           2\n14911   31000  2002   511000           2461          7      9           0\n14912   23500  2011   223000           1390          1     16           1\n14913   29800  2012   190000           1598          7     16           2\n14914   67600  1998   234700           2461          7      9           0\n\n[14915 rows x 7 columns]",
      "text/html": "<div>\n<style scoped>\n    .dataframe tbody tr th:only-of-type {\n        vertical-align: middle;\n    }\n\n    .dataframe tbody tr th {\n        vertical-align: top;\n    }\n\n    .dataframe thead th {\n        text-align: right;\n    }\n</style>\n<table border=\"1\" class=\"dataframe\">\n  <thead>\n    <tr style=\"text-align: right;\">\n      <th></th>\n      <th>Price</th>\n      <th>Year</th>\n      <th>Mileage</th>\n      <th>Tank capacity</th>\n      <th>Fuel type</th>\n      <th>Model</th>\n      <th>Estimation</th>\n    </tr>\n  </thead>\n  <tbody>\n    <tr>\n      <th>0</th>\n      <td>24900</td>\n      <td>2010</td>\n      <td>166000</td>\n      <td>1390</td>\n      <td>1</td>\n      <td>16</td>\n      <td>0</td>\n    </tr>\n    <tr>\n      <th>1</th>\n      <td>16500</td>\n      <td>2007</td>\n      <td>194000</td>\n      <td>1968</td>\n      <td>7</td>\n      <td>39</td>\n      <td>0</td>\n    </tr>\n    <tr>\n      <th>2</th>\n      <td>364510</td>\n      <td>2022</td>\n      <td>5400</td>\n      <td>1968</td>\n      <td>7</td>\n      <td>8</td>\n      <td>0</td>\n    </tr>\n    <tr>\n      <th>3</th>\n      <td>9999</td>\n      <td>2005</td>\n      <td>196425</td>\n      <td>1390</td>\n      <td>1</td>\n      <td>35</td>\n      <td>2</td>\n    </tr>\n    <tr>\n      <th>4</th>\n      <td>39900</td>\n      <td>2010</td>\n      <td>227000</td>\n      <td>1968</td>\n      <td>7</td>\n      <td>32</td>\n      <td>0</td>\n    </tr>\n    <tr>\n      <th>...</th>\n      <td>...</td>\n      <td>...</td>\n      <td>...</td>\n      <td>...</td>\n      <td>...</td>\n      <td>...</td>\n      <td>...</td>\n    </tr>\n    <tr>\n      <th>14910</th>\n      <td>119500</td>\n      <td>2020</td>\n      <td>52000</td>\n      <td>1498</td>\n      <td>1</td>\n      <td>41</td>\n      <td>2</td>\n    </tr>\n    <tr>\n      <th>14911</th>\n      <td>31000</td>\n      <td>2002</td>\n      <td>511000</td>\n      <td>2461</td>\n      <td>7</td>\n      <td>9</td>\n      <td>0</td>\n    </tr>\n    <tr>\n      <th>14912</th>\n      <td>23500</td>\n      <td>2011</td>\n      <td>223000</td>\n      <td>1390</td>\n      <td>1</td>\n      <td>16</td>\n      <td>1</td>\n    </tr>\n    <tr>\n      <th>14913</th>\n      <td>29800</td>\n      <td>2012</td>\n      <td>190000</td>\n      <td>1598</td>\n      <td>7</td>\n      <td>16</td>\n      <td>2</td>\n    </tr>\n    <tr>\n      <th>14914</th>\n      <td>67600</td>\n      <td>1998</td>\n      <td>234700</td>\n      <td>2461</td>\n      <td>7</td>\n      <td>9</td>\n      <td>0</td>\n    </tr>\n  </tbody>\n</table>\n<p>14915 rows × 7 columns</p>\n</div>"
     },
     "execution_count": 1,
     "metadata": {},
     "output_type": "execute_result"
    }
   ],
   "source": [
    "import numpy as np\n",
    "import pandas as pd\n",
    "import matplotlib as mpl\n",
    "import matplotlib.pyplot as plt\n",
    "import seaborn as sns\n",
    "import statsmodels as sm\n",
    "import tensorflow as tf\n",
    "# from model import VolkswagenModel\n",
    "# from colorama import init, Fore, Style\n",
    "\n",
    "print(f\"np: {np.__version__}, pd: {pd.__version__}, tf: {tf.__version__}, mpl: {mpl.__version__}, sb: {sns.__version__}, sm: {sm.__version__}\")\n",
    "print(\"Libs loaded.\")\n",
    "\n",
    "data = pd.read_csv(\"./data/otomoto.csv\")\n",
    "df = pd.DataFrame(data)\n",
    "df = df.drop(df.columns[0], axis=1)\n",
    "df.columns = ['Price', 'Year', 'Mileage', 'Tank capacity', 'Fuel type', 'Model', 'Estimation']\n",
    "print(\"Data technical info\")\n",
    "df.info()\n",
    "df"
   ]
  },
  {
   "cell_type": "code",
   "execution_count": null,
   "outputs": [],
   "source": [
    "description = df.describe()\n",
    "description"
   ],
   "metadata": {
    "collapsed": false,
    "pycharm": {
     "name": "#%%\n"
    }
   }
  },
  {
   "cell_type": "code",
   "execution_count": null,
   "outputs": [],
   "source": [
    "check = 14915\n",
    "flag = True\n",
    "for i in range(description.shape[1]):\n",
    "    if description.iloc[0, i] != check:\n",
    "        print(\"Number of occurrences of data is not equal for every label.\")\n",
    "        print(f\"Problem at cell: (0, {i})\")\n",
    "        flag = False\n",
    "        continue\n",
    "    else:\n",
    "        print(f\"Checked: (0, {i})\")\n",
    "\n",
    "print(\"All columns passed\" if flag == True else \"Not passed\")"
   ],
   "metadata": {
    "collapsed": false,
    "pycharm": {
     "name": "#%%\n"
    }
   }
  },
  {
   "attachments": {},
   "cell_type": "markdown",
   "metadata": {
    "pycharm": {
     "name": "#%% md\n"
    }
   },
   "source": [
    "2. Clean data:\n",
    "\n",
    "    Data was cleaned previously in 'scratchpad.py' file and now all the records are represented by integers(documentation of each column values is located in 'model.py' file). Values ​​of 0 represent an error in reading data. Column \"Estimation\" contains a lot of 0 values, but this is due to the fact that not every article on the website contained such information."
   ]
  },
  {
   "cell_type": "code",
   "execution_count": null,
   "metadata": {
    "pycharm": {
     "name": "#%%\n"
    }
   },
   "outputs": [],
   "source": [
    "counter = 0\n",
    "for index, row in df.iterrows():\n",
    "    if row[\"Price\"] == 0 or row[\"Year\"] == 0 or row[\"Mileage\"] == 0 or row[\"Tank capacity\"] == 0 or row[\"Model\"] == 0: \n",
    "        counter += 1\n",
    "print(counter)"
   ]
  },
  {
   "cell_type": "markdown",
   "source": [
    "\n",
    "Deleting outliers\n"
   ],
   "metadata": {
    "collapsed": false,
    "pycharm": {
     "name": "#%% md\n"
    }
   }
  },
  {
   "cell_type": "code",
   "execution_count": null,
   "outputs": [],
   "source": [
    "plt.figure()\n",
    "sns.barplot(x=df[\"Price\"], y=df[\"Mileage\"])\n",
    "plt.plot()"
   ],
   "metadata": {
    "collapsed": false,
    "pycharm": {
     "name": "#%%\n"
    }
   }
  },
  {
   "cell_type": "markdown",
   "source": [
    "Normalization"
   ],
   "metadata": {
    "collapsed": false,
    "pycharm": {
     "name": "#%% md\n"
    }
   }
  },
  {
   "attachments": {},
   "cell_type": "markdown",
   "metadata": {
    "pycharm": {
     "name": "#%% md\n"
    }
   },
   "source": [
    "Histograms"
   ]
  },
  {
   "cell_type": "code",
   "execution_count": null,
   "outputs": [],
   "source": [
    "def make_hist(col_name, bins_val):\n",
    "    min = df[col_name].min()\n",
    "    max = df[col_name].max()\n",
    "    print(f\"Lowest {col_name} value: {min}. Highest {col_name} value: {max}.\")\n",
    "    plot_hist = df[col_name].plot.hist(bins=bins_val, grid=True)\n",
    "    plot_hist.set_title(f\"Represents number of cars for each production {col_name.upper()} category\")\n",
    "    plot_hist.set_xlabel(f\"{col_name}\")\n",
    "    plot_hist.set_ylabel(\"Number of observations\")\n",
    "    plt.show()"
   ],
   "metadata": {
    "collapsed": false,
    "pycharm": {
     "name": "#%%\n",
     "is_executing": true
    }
   }
  },
  {
   "cell_type": "code",
   "execution_count": null,
   "metadata": {
    "pycharm": {
     "name": "#%%\n"
    }
   },
   "outputs": [],
   "source": [
    "make_hist(\"Price\", 57)"
   ]
  },
  {
   "cell_type": "code",
   "execution_count": null,
   "metadata": {
    "pycharm": {
     "name": "#%%\n"
    }
   },
   "outputs": [],
   "source": [
    "min = df[\"Year\"].min()\n",
    "max = df[\"Year\"].max()\n",
    "make_hist(\"Year\", max-min)"
   ]
  },
  {
   "cell_type": "code",
   "execution_count": null,
   "metadata": {
    "pycharm": {
     "name": "#%%\n"
    }
   },
   "outputs": [],
   "source": [
    "make_hist(\"Mileage\", 70)"
   ]
  },
  {
   "cell_type": "code",
   "execution_count": null,
   "metadata": {
    "pycharm": {
     "name": "#%%\n"
    }
   },
   "outputs": [],
   "source": [
    "make_hist(\"Tank capacity\", 10) # default bins = 10\n",
    "\n",
    "# Trzeba jeszcze dopasować przedziały"
   ]
  },
  {
   "cell_type": "code",
   "execution_count": null,
   "outputs": [],
   "source": [
    "make_hist(\"Fuel type\", 10) # default bins = 10"
   ],
   "metadata": {
    "collapsed": false,
    "pycharm": {
     "name": "#%%\n"
    }
   }
  },
  {
   "cell_type": "code",
   "execution_count": null,
   "outputs": [],
   "source": [
    "NO_cars_fuel = df['Fuel type'].value_counts().reset_index()\n",
    "NO_cars_fuel = NO_cars_fuel.rename(columns={'index': 'type of fuel', 'Fuel type': 'NO of cars with specific fuel type'})\n",
    "# NaN\n",
    "# d = {\"Benzyna\": 1, \"Benzyna+LPG\": 2, \"Benzyna+CNG\": 3, \"Elektryczny\": 4, \"Hybryda\": 5, \"Wodór\": 6, \"Diesel\": 7}\n",
    "# unique_values['name of fuel'] = unique_values['type of fuel'].map(d)\n",
    "NO_cars_fuel"
   ],
   "metadata": {
    "collapsed": false,
    "pycharm": {
     "name": "#%%\n"
    }
   }
  },
  {
   "cell_type": "code",
   "execution_count": null,
   "outputs": [],
   "source": [
    "make_hist(\"Model\", 29)"
   ],
   "metadata": {
    "collapsed": false,
    "pycharm": {
     "name": "#%%\n"
    }
   }
  },
  {
   "cell_type": "code",
   "execution_count": null,
   "outputs": [],
   "source": [
    "make_hist(\"Estimation\", 10) # default bins = 10"
   ],
   "metadata": {
    "collapsed": false,
    "pycharm": {
     "name": "#%%\n"
    }
   }
  },
  {
   "cell_type": "markdown",
   "source": [
    "Distribution of cars per column per certain category from column in numbers."
   ],
   "metadata": {
    "collapsed": false,
    "pycharm": {
     "name": "#%% md\n"
    }
   }
  },
  {
   "cell_type": "code",
   "execution_count": null,
   "outputs": [],
   "source": [
    "# pr = df['Price'].value_counts().reset_index()\n",
    "# yr = df['Year'].value_counts().reset_index()\n",
    "# mil = df['Mileage'].value_counts().reset_index()\n",
    "# tank = df['Tank capacity'].value_counts().reset_index()\n",
    "# fuel = df['Fuel type'].value_counts().reset_index()\n",
    "mod = df['Model'].value_counts().reset_index()\n",
    "est = df['Estimation'].value_counts().reset_index()\n",
    "\n",
    "# pr = pr.rename(columns={'index': 'price_cat', 'Price': 'NO_cars'})\n",
    "# yr = yr.rename(columns={'index': 'year_cat', 'Year': 'NO_cars'})\n",
    "# mil = mil.rename(columns={'index': 'mileage_cat', 'Mileage': 'NO_cars'})\n",
    "# tank = tank.rename(columns={'index': 'tank_capacity', 'Tank capacity': 'NO_cars'})\n",
    "# fuel = fuel.rename(columns={'index': 'type_fuel', 'Fuel type': 'NO_cars'})\n",
    "mod = mod.rename(columns={'index': 'type_model', 'Model': 'NO_cars'})\n",
    "est = est.rename(columns={'index': 'type_est', 'Estimation': 'NO_cars'})\n",
    "\n",
    "def create_table(table_data, table_title):\n",
    "    fig = plt.figure()\n",
    "    table = plt.table(cellText=table_data.values, colLabels=table_data.columns, loc='upper left')\n",
    "    table.auto_set_font_size(False)\n",
    "    table.set_fontsize(14)\n",
    "    table.scale(1, 1.5)\n",
    "    plt.subplots_adjust(left=0.2, bottom=0.2)\n",
    "    plt.title(table_title)\n",
    "    plt.axis('off')\n",
    "    return fig\n",
    "\n",
    "# table1 = create_table(pr, \"Pr\")\n",
    "# table2 = create_table(yr, \"Yr\")\n",
    "# table3 = create_table(mil, \"Mil\")\n",
    "# table4 = create_table(tank, \"Tank\")\n",
    "# table5 = create_table(fuel, \"Fuel\")\n",
    "table6 = create_table(mod, \"Mod\")\n",
    "table7 = create_table(est, \"Est\")"
   ],
   "metadata": {
    "collapsed": false,
    "pycharm": {
     "name": "#%%\n"
    }
   }
  },
  {
   "cell_type": "markdown",
   "source": [
    "Box plots"
   ],
   "metadata": {
    "collapsed": false,
    "pycharm": {
     "name": "#%% md\n"
    }
   }
  },
  {
   "cell_type": "code",
   "execution_count": null,
   "outputs": [],
   "source": [
    "sns.boxplot(df['Price']).set(title=\"PRICE boxplot\", xlabel=\"Price\", ylabel=\"Value of Price\")\n",
    "sns.despine()"
   ],
   "metadata": {
    "collapsed": false,
    "pycharm": {
     "name": "#%%\n"
    }
   }
  },
  {
   "cell_type": "code",
   "execution_count": null,
   "outputs": [],
   "source": [
    "# # create FacetGrid\n",
    "# grid = sns.FacetGrid(pd.melt(df.reset_index(), id_vars=['index']), col='variable', col_wrap=2)\n",
    "#\n",
    "# # plot boxplots on each facet\n",
    "# grid.map(sns.boxplot, 'variable', 'value')\n",
    "#\n",
    "# # set titles and labels\n",
    "# for ax in grid.axes.flat:\n",
    "#     ax.set_title(ax.get_title().split('=')[1])\n",
    "#     ax.set_xlabel('')\n",
    "#     ax.set_ylabel('')\n",
    "#\n",
    "# plt.subplots_adjust(top=0.9)\n",
    "# grid.fig.suptitle('Boxplots Grid')\n",
    "#\n",
    "# plt.show()\n",
    "\n",
    "def grid_boxplots(*args):\n",
    "    col_list = [col for col in args]\n",
    "\n",
    "\n"
   ],
   "metadata": {
    "collapsed": false,
    "pycharm": {
     "name": "#%%\n"
    }
   }
  },
  {
   "cell_type": "markdown",
   "source": [
    "Heat Map"
   ],
   "metadata": {
    "collapsed": false,
    "pycharm": {
     "name": "#%% md\n"
    }
   }
  },
  {
   "cell_type": "code",
   "execution_count": null,
   "outputs": [],
   "source": [
    "correlation_matrix = np.corrcoef(df.values.T)\n",
    "\n",
    "fig, ax = plt.subplots(figsize=(7, 7))\n",
    "sns.set(font_scale=1.1)\n",
    "sns.heatmap(data=correlation_matrix, square=True, cbar=True, annot=True, annot_kws={'size': 10}, xticklabels=df.columns, yticklabels=df.columns, fmt=\".2f\", linewidth=.5, cmap=sns.cubehelix_palette(as_cmap=True))"
   ],
   "metadata": {
    "collapsed": false,
    "pycharm": {
     "name": "#%%\n"
    }
   }
  },
  {
   "cell_type": "markdown",
   "source": [
    "Pair plot"
   ],
   "metadata": {
    "collapsed": false,
    "pycharm": {
     "name": "#%% md\n"
    }
   }
  },
  {
   "cell_type": "code",
   "execution_count": null,
   "outputs": [],
   "source": [
    "sns.pairplot(df, height=1.5)\n",
    "sns.pairplot(df.columns.tolist())"
   ],
   "metadata": {
    "collapsed": false,
    "pycharm": {
     "name": "#%%\n"
    }
   }
  },
  {
   "cell_type": "markdown",
   "source": [
    "Model Building"
   ],
   "metadata": {
    "collapsed": false,
    "pycharm": {
     "name": "#%% md\n"
    }
   }
  },
  {
   "cell_type": "markdown",
   "source": [
    "Splitting data into sets"
   ],
   "metadata": {
    "collapsed": false,
    "pycharm": {
     "name": "#%% md\n"
    }
   }
  },
  {
   "cell_type": "code",
   "execution_count": null,
   "outputs": [],
   "source": [],
   "metadata": {
    "collapsed": false,
    "pycharm": {
     "name": "#%%\n"
    }
   }
  },
  {
   "cell_type": "markdown",
   "source": [
    "Model Architecture"
   ],
   "metadata": {
    "collapsed": false,
    "pycharm": {
     "name": "#%% md\n"
    }
   }
  },
  {
   "cell_type": "code",
   "execution_count": null,
   "outputs": [],
   "source": [],
   "metadata": {
    "collapsed": false,
    "pycharm": {
     "name": "#%%\n"
    }
   }
  },
  {
   "cell_type": "markdown",
   "source": [
    "Training the model"
   ],
   "metadata": {
    "collapsed": false,
    "pycharm": {
     "name": "#%% md\n"
    }
   }
  },
  {
   "cell_type": "markdown",
   "source": [],
   "metadata": {
    "collapsed": false,
    "pycharm": {
     "name": "#%% md\n"
    }
   }
  },
  {
   "cell_type": "code",
   "execution_count": null,
   "outputs": [],
   "source": [],
   "metadata": {
    "collapsed": false,
    "pycharm": {
     "name": "#%%\n"
    }
   }
  },
  {
   "cell_type": "markdown",
   "source": [
    "Evaluating the model"
   ],
   "metadata": {
    "collapsed": false,
    "pycharm": {
     "name": "#%% md\n"
    }
   }
  },
  {
   "cell_type": "code",
   "execution_count": null,
   "outputs": [],
   "source": [],
   "metadata": {
    "collapsed": false,
    "pycharm": {
     "name": "#%%\n"
    }
   }
  },
  {
   "cell_type": "markdown",
   "source": [
    "### DEPLOY - docker, github repo"
   ],
   "metadata": {
    "collapsed": false,
    "pycharm": {
     "name": "#%% md\n"
    }
   }
  }
 ],
 "metadata": {
  "kernelspec": {
   "display_name": "Python 3",
   "language": "python",
   "name": "python3"
  },
  "language_info": {
   "codemirror_mode": {
    "name": "ipython",
    "version": 3
   },
   "file_extension": ".py",
   "mimetype": "text/x-python",
   "name": "python",
   "nbconvert_exporter": "python",
   "pygments_lexer": "ipython3",
   "version": "3.10.10"
  }
 },
 "nbformat": 4,
 "nbformat_minor": 0
}