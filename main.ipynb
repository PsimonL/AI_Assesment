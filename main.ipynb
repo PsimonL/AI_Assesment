{
 "cells": [
  {
   "cell_type": "markdown",
   "source": [
    "Project requirements:\n",
    "- Only requirement is: minimum 10k rows\n",
    "- Any type of neural network - classical but convolutional and recurrent, better grade\n",
    "- Presentation of project, beside practical questions about model there would be also theoretical.\n",
    "\n",
    "Theory required for project presentation:\n",
    "+ Practical side.\n",
    "- Discuss the scheme of an artificial neuron.\n",
    "- Activation function, why it is so important.\n",
    "- Explain how does neuron learn - steps, algorithm?\n",
    "- How does basic neural network work? (The more you know the better, as well as more complex).\n",
    "- Discuss the algorithm of neural network using backpropagation learning method. (metoda wstecznej propagacji błędów)\n",
    "- What subsets and why are the data divided into?\n",
    "Knowledge of ML, statistics."
   ],
   "metadata": {
    "collapsed": false,
    "pycharm": {
     "name": "#%% md\n"
    }
   }
  },
  {
   "cell_type": "markdown",
   "source": [
    "======================================================== Project topic here"
   ],
   "metadata": {
    "collapsed": false,
    "pycharm": {
     "name": "#%% md\n"
    }
   }
  },
  {
   "cell_type": "markdown",
   "source": [
    "Data sources:\n"
   ],
   "metadata": {
    "collapsed": false,
    "pycharm": {
     "name": "#%% md\n"
    }
   }
  },
  {
   "cell_type": "code",
   "execution_count": null,
   "metadata": {
    "collapsed": true,
    "pycharm": {
     "name": "#%%\n"
    }
   },
   "outputs": [],
   "source": [
    "import numpy as np\n",
    "import pandas as pd\n",
    "import tensorflow"
   ]
  },
  {
   "cell_type": "code",
   "execution_count": null,
   "outputs": [],
   "source": [
    "data = pd.read_csv(r\"\", sep=' ', usecols=[])\n",
    "data.head()"
   ],
   "metadata": {
    "collapsed": false,
    "pycharm": {
     "name": "#%%\n"
    }
   }
  },
  {
   "cell_type": "code",
   "execution_count": null,
   "outputs": [],
   "source": [
    "data.dtypes"
   ],
   "metadata": {
    "collapsed": false,
    "pycharm": {
     "name": "#%%\n"
    }
   }
  },
  {
   "cell_type": "code",
   "execution_count": null,
   "outputs": [],
   "source": [],
   "metadata": {
    "collapsed": false,
    "pycharm": {
     "name": "#%%\n"
    }
   }
  }
 ],
 "metadata": {
  "kernelspec": {
   "display_name": "Python 3",
   "language": "python",
   "name": "python3"
  },
  "language_info": {
   "codemirror_mode": {
    "name": "ipython",
    "version": 2
   },
   "file_extension": ".py",
   "mimetype": "text/x-python",
   "name": "python",
   "nbconvert_exporter": "python",
   "pygments_lexer": "ipython2",
   "version": "2.7.6"
  }
 },
 "nbformat": 4,
 "nbformat_minor": 0
}