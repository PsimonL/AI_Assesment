{
 "cells": [
  {
   "cell_type": "markdown",
   "metadata": {
    "collapsed": false,
    "pycharm": {
     "name": "#%% md\n"
    }
   },
   "source": [
    "Project requirements:\n",
    "- Only requirement is: minimum 10k rows\n",
    "- Any type of neural network - classical but convolutional and recurrent, better grade\n",
    "- Presentation of project, beside practical questions about model there would be also theoretical.\n",
    "The topic is free.\n",
    "\n",
    "Theory required for project presentation:\n",
    "+ Practical side.\n",
    "- Discuss the scheme of an artificial neuron.\n",
    "- Activation function, why it is so important.\n",
    "- Explain how does neuron learn - steps, algorithm?\n",
    "- How does basic neural network work? (The more you know the better, as well as more complex).\n",
    "- Discuss the algorithm of neural network using backpropagation learning method. (metoda wstecznej propagacji błędów)\n",
    "- What subsets and why are the data divided into?\n",
    "Knowledge of ML, statistics."
   ]
  },
  {
   "cell_type": "markdown",
   "metadata": {
    "collapsed": false,
    "pycharm": {
     "name": "#%% md\n"
    }
   },
   "source": [
    "======================================================== Project topic here"
   ]
  },
  {
   "cell_type": "markdown",
   "metadata": {
    "collapsed": false,
    "pycharm": {
     "name": "#%% md\n"
    }
   },
   "source": [
    "Data sources:\n",
    "- Kaggle\n",
    "- Some API\n",
    "\n",
    "1. Pick\n",
    "https://www.kaggle.com/datasets/sogun3/uspollution/code?fbclid=IwAR0L-lPddNzejw9f3psL3TM5KVG80VzbtAiooBQQ6s2BSoCoKOTQKpZJ8HQ\n",
    "\n",
    "2. Pick\n",
    "https://www.kaggle.com/datasets/sshikamaru/fruit-recognition?fbclid=IwAR2WTxYRvhggwcwUALUGHcMMpQ75LSK0IlXdKuDtaRFJTIz8Xc8RBR8skgc"
   ]
  },
  {
   "cell_type": "code",
   "execution_count": 11,
   "metadata": {
    "collapsed": true,
    "pycharm": {
     "name": "#%%\n"
    }
   },
   "outputs": [
    {
     "name": "stdout",
     "output_type": "stream",
     "text": [
      "np: 1.22.4, pd: 1.4.2, tf: 2.11.0, mpl: 3.7.1, sb: 0.12.2, sm: 0.13.5\n",
      "Libs loaded.\n"
     ]
    }
   ],
   "source": [
    "import numpy as np\n",
    "import pandas as pd\n",
    "import matplotlib as mpl\n",
    "import matplotlib.pyplot as plt\n",
    "import seaborn as sb\n",
    "import statsmodels as sm\n",
    "import tensorflow as tf\n",
    "from model import VolkswagenModel\n",
    "\n",
    "print(f\"np: {np.__version__}, pd: {pd.__version__}, tf: {tf.__version__}, mpl: {mpl.__version__}, sb: {sb.__version__}, sm: {sm.__version__}\")\n",
    "print(\"Libs loaded.\")"
   ]
  },
  {
   "cell_type": "code",
   "execution_count": 12,
   "metadata": {
    "collapsed": false,
    "pycharm": {
     "name": "#%%\n"
    }
   },
   "outputs": [
    {
     "data": {
      "text/html": [
       "<div>\n",
       "<style scoped>\n",
       "    .dataframe tbody tr th:only-of-type {\n",
       "        vertical-align: middle;\n",
       "    }\n",
       "\n",
       "    .dataframe tbody tr th {\n",
       "        vertical-align: top;\n",
       "    }\n",
       "\n",
       "    .dataframe thead th {\n",
       "        text-align: right;\n",
       "    }\n",
       "</style>\n",
       "<table border=\"1\" class=\"dataframe\">\n",
       "  <thead>\n",
       "    <tr style=\"text-align: right;\">\n",
       "      <th></th>\n",
       "      <th>Price</th>\n",
       "      <th>Year</th>\n",
       "      <th>Mileage</th>\n",
       "      <th>Tank capacity</th>\n",
       "      <th>Fuel type</th>\n",
       "      <th>Model</th>\n",
       "      <th>Estimation</th>\n",
       "    </tr>\n",
       "  </thead>\n",
       "  <tbody>\n",
       "    <tr>\n",
       "      <th>0</th>\n",
       "      <td>71900</td>\n",
       "      <td>2018</td>\n",
       "      <td>114000</td>\n",
       "      <td>1395</td>\n",
       "      <td>0</td>\n",
       "      <td>32</td>\n",
       "      <td>1</td>\n",
       "    </tr>\n",
       "    <tr>\n",
       "      <th>1</th>\n",
       "      <td>19900</td>\n",
       "      <td>2006</td>\n",
       "      <td>242000</td>\n",
       "      <td>1595</td>\n",
       "      <td>0</td>\n",
       "      <td>7</td>\n",
       "      <td>1</td>\n",
       "    </tr>\n",
       "    <tr>\n",
       "      <th>2</th>\n",
       "      <td>68500</td>\n",
       "      <td>2016</td>\n",
       "      <td>204600</td>\n",
       "      <td>1598</td>\n",
       "      <td>1</td>\n",
       "      <td>32</td>\n",
       "      <td>2</td>\n",
       "    </tr>\n",
       "    <tr>\n",
       "      <th>3</th>\n",
       "      <td>18900</td>\n",
       "      <td>2013</td>\n",
       "      <td>336500</td>\n",
       "      <td>1199</td>\n",
       "      <td>1</td>\n",
       "      <td>35</td>\n",
       "      <td>1</td>\n",
       "    </tr>\n",
       "    <tr>\n",
       "      <th>4</th>\n",
       "      <td>114900</td>\n",
       "      <td>2017</td>\n",
       "      <td>83200</td>\n",
       "      <td>1968</td>\n",
       "      <td>1</td>\n",
       "      <td>32</td>\n",
       "      <td>2</td>\n",
       "    </tr>\n",
       "    <tr>\n",
       "      <th>...</th>\n",
       "      <td>...</td>\n",
       "      <td>...</td>\n",
       "      <td>...</td>\n",
       "      <td>...</td>\n",
       "      <td>...</td>\n",
       "      <td>...</td>\n",
       "      <td>...</td>\n",
       "    </tr>\n",
       "    <tr>\n",
       "      <th>15359</th>\n",
       "      <td>42000</td>\n",
       "      <td>2012</td>\n",
       "      <td>85000</td>\n",
       "      <td>1390</td>\n",
       "      <td>0</td>\n",
       "      <td>35</td>\n",
       "      <td>-</td>\n",
       "    </tr>\n",
       "    <tr>\n",
       "      <th>15360</th>\n",
       "      <td>66999</td>\n",
       "      <td>2021</td>\n",
       "      <td>45000</td>\n",
       "      <td>1968</td>\n",
       "      <td>1</td>\n",
       "      <td>47</td>\n",
       "      <td>-</td>\n",
       "    </tr>\n",
       "    <tr>\n",
       "      <th>15361</th>\n",
       "      <td>91900</td>\n",
       "      <td>2018</td>\n",
       "      <td>198400</td>\n",
       "      <td>1968</td>\n",
       "      <td>1</td>\n",
       "      <td>44</td>\n",
       "      <td>1</td>\n",
       "    </tr>\n",
       "    <tr>\n",
       "      <th>15362</th>\n",
       "      <td>39950</td>\n",
       "      <td>2011</td>\n",
       "      <td>280000</td>\n",
       "      <td>1968</td>\n",
       "      <td>1</td>\n",
       "      <td>44</td>\n",
       "      <td>1</td>\n",
       "    </tr>\n",
       "    <tr>\n",
       "      <th>15363</th>\n",
       "      <td>59900</td>\n",
       "      <td>2019</td>\n",
       "      <td>204000</td>\n",
       "      <td>1968</td>\n",
       "      <td>1</td>\n",
       "      <td>16</td>\n",
       "      <td>-</td>\n",
       "    </tr>\n",
       "  </tbody>\n",
       "</table>\n",
       "<p>15364 rows × 7 columns</p>\n",
       "</div>"
      ],
      "text/plain": [
       "        Price  Year Mileage Tank capacity  Fuel type Model Estimation\n",
       "0       71900  2018  114000          1395          0    32          1\n",
       "1       19900  2006  242000          1595          0     7          1\n",
       "2       68500  2016  204600          1598          1    32          2\n",
       "3       18900  2013  336500          1199          1    35          1\n",
       "4      114900  2017   83200          1968          1    32          2\n",
       "...       ...   ...     ...           ...        ...   ...        ...\n",
       "15359   42000  2012   85000          1390          0    35          -\n",
       "15360   66999  2021   45000          1968          1    47          -\n",
       "15361   91900  2018  198400          1968          1    44          1\n",
       "15362   39950  2011  280000          1968          1    44          1\n",
       "15363   59900  2019  204000          1968          1    16          -\n",
       "\n",
       "[15364 rows x 7 columns]"
      ]
     },
     "execution_count": 12,
     "metadata": {},
     "output_type": "execute_result"
    }
   ],
   "source": [
    "data = pd.read_csv(\"./data/otomoto.csv\")\n",
    "df = pd.DataFrame(data)\n",
    "df = df.drop(df.columns[0], axis=1)\n",
    "df.columns = ['Price', 'Year', 'Mileage', 'Tank capacity', 'Fuel type', 'Model', 'Estimation']\n",
    "df"
   ]
  },
  {
   "cell_type": "code",
   "execution_count": 13,
   "metadata": {
    "collapsed": false,
    "pycharm": {
     "name": "#%%\n"
    }
   },
   "outputs": [
    {
     "data": {
      "text/plain": [
       "Unnamed: 0     int64\n",
       "0             object\n",
       "1              int64\n",
       "2             object\n",
       "3             object\n",
       "4              int64\n",
       "5             object\n",
       "6             object\n",
       "dtype: object"
      ]
     },
     "execution_count": 13,
     "metadata": {},
     "output_type": "execute_result"
    }
   ],
   "source": [
    "data.dtypes"
   ]
  },
  {
   "cell_type": "code",
   "execution_count": 20,
   "metadata": {},
   "outputs": [],
   "source": [
    "#for i in range(len(list_of_models)):\n",
    "    #print(i, f\" : {list_of_models[i]}\")\n",
    "    \n",
    "#df[\"Model\"].value_counts().plot(kind='pie')"
   ]
  }
 ],
 "metadata": {
  "kernelspec": {
   "display_name": "Python 3",
   "language": "python",
   "name": "python3"
  },
  "language_info": {
   "codemirror_mode": {
    "name": "ipython",
    "version": 3
   },
   "file_extension": ".py",
   "mimetype": "text/x-python",
   "name": "python",
   "nbconvert_exporter": "python",
   "pygments_lexer": "ipython3",
   "version": "3.10.10"
  }
 },
 "nbformat": 4,
 "nbformat_minor": 0
}
