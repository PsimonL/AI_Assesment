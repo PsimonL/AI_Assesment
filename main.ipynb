{
 "cells": [
  {
   "cell_type": "markdown",
   "source": [
    "Project requirements:\n",
    "- Only requirement is: minimum 10k rows\n",
    "- Any type of neural network - classical but convolutional and recurrent, better grade\n",
    "- Presentation of project, beside practical questions about model there would be also theoretical.\n",
    "The topic is free.\n",
    "\n",
    "Theory required for project presentation:\n",
    "+ Practical side.\n",
    "- Discuss the scheme of an artificial neuron.\n",
    "- Activation function, why it is so important.\n",
    "- Explain how does neuron learn - steps, algorithm?\n",
    "- How does basic neural network work? (The more you know the better, as well as more complex).\n",
    "- Discuss the algorithm of neural network using backpropagation learning method. (metoda wstecznej propagacji błędów)\n",
    "- What subsets and why are the data divided into?\n",
    "Knowledge of ML, statistics."
   ],
   "metadata": {
    "collapsed": false,
    "pycharm": {
     "name": "#%% md\n"
    }
   }
  },
  {
   "cell_type": "markdown",
   "source": [
    "================================================== Project topic here ==================================================\n"
   ],
   "metadata": {
    "collapsed": false,
    "pycharm": {
     "name": "#%% md\n"
    }
   }
  },
  {
   "cell_type": "markdown",
   "source": [
    "Steps for AI/ML model performed below:\n",
    "1. Defining the problem and gathering data - clearly defying problem which we would like to solve. Understanding the domain of problem.\n",
    "2. Exploring and cleaning the data - understanding properties and dependencies. Performing data cleaning and preprocessing to ensure that the data is properly formatted for next steps, which means to: remove unwanted data, missing values, rows, and columns, duplicate values, data type conversion, etc. Before checking if dataset requires cleaning and to what degree.\n",
    "3. Preparing the data - understanding statistical (classical statistics) relationships between labels. At the end splitting data into training and testing set in ratio 8 to 2. Scaling or normalizing the data, outliers (mae, mse, r2, ransac, ) etc.\n",
    "4. Choosing and training the model - which includes tuning model.\n",
    "5. Evaluating the model - model performance."
   ],
   "metadata": {
    "collapsed": false,
    "pycharm": {
     "name": "#%% md\n"
    }
   }
  },
  {
   "cell_type": "code",
   "execution_count": 164,
   "metadata": {
    "collapsed": true,
    "pycharm": {
     "name": "#%%\n"
    }
   },
   "outputs": [
    {
     "name": "stdout",
     "output_type": "stream",
     "text": [
      "Used libs with their versions: \n",
      "np: 1.23.2, pd: 1.4.4, tf: 2.11.0, mpl: 3.5.3, sb: 0.12.1, sm: 0.13.2\n",
      "Libs loaded.\n"
     ]
    }
   ],
   "source": [
    "import numpy as np\n",
    "import pandas as pd\n",
    "import matplotlib as mpl\n",
    "import seaborn as sb\n",
    "import statsmodels as sm\n",
    "import tensorflow as tf\n",
    "\n",
    "\n",
    "print(\"Used libs with their versions: \")\n",
    "print(f\"np: {np.__version__}, pd: {pd.__version__}, tf: {tf.__version__}, mpl: {mpl.__version__}, sb: {sb.__version__}, sm: {sm.__version__}\")\n",
    "print(\"Libs loaded.\")"
   ]
  },
  {
   "cell_type": "code",
   "execution_count": 165,
   "outputs": [
    {
     "data": {
      "text/plain": "        app_id                                         title date_release  \\\n0        10090                    Call of Duty: World at War   18.11.2008   \n1        13500             Prince of Persia: Warrior Within™   21.11.2008   \n2        22364                       BRINK: Agents of Change   03.08.2011   \n3       113020                  Monaco: What's Yours Is Mine   24.04.2013   \n4       226560                            Escape Dead Island   18.11.2014   \n...        ...                                           ...          ...   \n46063   758560                                  Versus World   30.01.2018   \n46064   886910  Bus Simulator 18 - Country Skin & Decal Pack   05.07.2018   \n46065  1477870                                     Elemental   30.03.2021   \n46066  1638430                                  Axial Disc 1   15.08.2021   \n46067  2277670                          Hank: Straightjacket   01.02.2023   \n\n          win     mac   linux           rating  positive_ratio  user_reviews  \\\n0      PRAWDA   FAŁSZ   FAŁSZ    Very Positive              92         37039   \n1      PRAWDA   FAŁSZ   FAŁSZ    Very Positive              84          2199   \n2      PRAWDA   FAŁSZ   FAŁSZ         Positive              85            21   \n3      PRAWDA  PRAWDA  PRAWDA    Very Positive              92          3722   \n4      PRAWDA   FAŁSZ   FAŁSZ            Mixed              61           873   \n...       ...     ...     ...              ...             ...           ...   \n46063  PRAWDA   FAŁSZ   FAŁSZ    Very Positive              88            87   \n46064  PRAWDA   FAŁSZ   FAŁSZ    Very Positive              88           118   \n46065  PRAWDA   FAŁSZ   FAŁSZ  Mostly Positive              78            14   \n46066  PRAWDA   FAŁSZ   FAŁSZ         Positive              95            42   \n46067  PRAWDA   FAŁSZ   FAŁSZ            Mixed              66            12   \n\n       price_final  \n0            19.99  \n1             9.99  \n2             2.99  \n3            14.99  \n4            14.99  \n...            ...  \n46063         0.00  \n46064         0.00  \n46065         0.00  \n46066         0.00  \n46067         0.00  \n\n[46068 rows x 10 columns]",
      "text/html": "<div>\n<style scoped>\n    .dataframe tbody tr th:only-of-type {\n        vertical-align: middle;\n    }\n\n    .dataframe tbody tr th {\n        vertical-align: top;\n    }\n\n    .dataframe thead th {\n        text-align: right;\n    }\n</style>\n<table border=\"1\" class=\"dataframe\">\n  <thead>\n    <tr style=\"text-align: right;\">\n      <th></th>\n      <th>app_id</th>\n      <th>title</th>\n      <th>date_release</th>\n      <th>win</th>\n      <th>mac</th>\n      <th>linux</th>\n      <th>rating</th>\n      <th>positive_ratio</th>\n      <th>user_reviews</th>\n      <th>price_final</th>\n    </tr>\n  </thead>\n  <tbody>\n    <tr>\n      <th>0</th>\n      <td>10090</td>\n      <td>Call of Duty: World at War</td>\n      <td>18.11.2008</td>\n      <td>PRAWDA</td>\n      <td>FAŁSZ</td>\n      <td>FAŁSZ</td>\n      <td>Very Positive</td>\n      <td>92</td>\n      <td>37039</td>\n      <td>19.99</td>\n    </tr>\n    <tr>\n      <th>1</th>\n      <td>13500</td>\n      <td>Prince of Persia: Warrior Within™</td>\n      <td>21.11.2008</td>\n      <td>PRAWDA</td>\n      <td>FAŁSZ</td>\n      <td>FAŁSZ</td>\n      <td>Very Positive</td>\n      <td>84</td>\n      <td>2199</td>\n      <td>9.99</td>\n    </tr>\n    <tr>\n      <th>2</th>\n      <td>22364</td>\n      <td>BRINK: Agents of Change</td>\n      <td>03.08.2011</td>\n      <td>PRAWDA</td>\n      <td>FAŁSZ</td>\n      <td>FAŁSZ</td>\n      <td>Positive</td>\n      <td>85</td>\n      <td>21</td>\n      <td>2.99</td>\n    </tr>\n    <tr>\n      <th>3</th>\n      <td>113020</td>\n      <td>Monaco: What's Yours Is Mine</td>\n      <td>24.04.2013</td>\n      <td>PRAWDA</td>\n      <td>PRAWDA</td>\n      <td>PRAWDA</td>\n      <td>Very Positive</td>\n      <td>92</td>\n      <td>3722</td>\n      <td>14.99</td>\n    </tr>\n    <tr>\n      <th>4</th>\n      <td>226560</td>\n      <td>Escape Dead Island</td>\n      <td>18.11.2014</td>\n      <td>PRAWDA</td>\n      <td>FAŁSZ</td>\n      <td>FAŁSZ</td>\n      <td>Mixed</td>\n      <td>61</td>\n      <td>873</td>\n      <td>14.99</td>\n    </tr>\n    <tr>\n      <th>...</th>\n      <td>...</td>\n      <td>...</td>\n      <td>...</td>\n      <td>...</td>\n      <td>...</td>\n      <td>...</td>\n      <td>...</td>\n      <td>...</td>\n      <td>...</td>\n      <td>...</td>\n    </tr>\n    <tr>\n      <th>46063</th>\n      <td>758560</td>\n      <td>Versus World</td>\n      <td>30.01.2018</td>\n      <td>PRAWDA</td>\n      <td>FAŁSZ</td>\n      <td>FAŁSZ</td>\n      <td>Very Positive</td>\n      <td>88</td>\n      <td>87</td>\n      <td>0.00</td>\n    </tr>\n    <tr>\n      <th>46064</th>\n      <td>886910</td>\n      <td>Bus Simulator 18 - Country Skin &amp; Decal Pack</td>\n      <td>05.07.2018</td>\n      <td>PRAWDA</td>\n      <td>FAŁSZ</td>\n      <td>FAŁSZ</td>\n      <td>Very Positive</td>\n      <td>88</td>\n      <td>118</td>\n      <td>0.00</td>\n    </tr>\n    <tr>\n      <th>46065</th>\n      <td>1477870</td>\n      <td>Elemental</td>\n      <td>30.03.2021</td>\n      <td>PRAWDA</td>\n      <td>FAŁSZ</td>\n      <td>FAŁSZ</td>\n      <td>Mostly Positive</td>\n      <td>78</td>\n      <td>14</td>\n      <td>0.00</td>\n    </tr>\n    <tr>\n      <th>46066</th>\n      <td>1638430</td>\n      <td>Axial Disc 1</td>\n      <td>15.08.2021</td>\n      <td>PRAWDA</td>\n      <td>FAŁSZ</td>\n      <td>FAŁSZ</td>\n      <td>Positive</td>\n      <td>95</td>\n      <td>42</td>\n      <td>0.00</td>\n    </tr>\n    <tr>\n      <th>46067</th>\n      <td>2277670</td>\n      <td>Hank: Straightjacket</td>\n      <td>01.02.2023</td>\n      <td>PRAWDA</td>\n      <td>FAŁSZ</td>\n      <td>FAŁSZ</td>\n      <td>Mixed</td>\n      <td>66</td>\n      <td>12</td>\n      <td>0.00</td>\n    </tr>\n  </tbody>\n</table>\n<p>46068 rows × 10 columns</p>\n</div>"
     },
     "execution_count": 165,
     "metadata": {},
     "output_type": "execute_result"
    }
   ],
   "source": [
    "data = pd.read_csv(r\"games_converted.csv\", sep=';', usecols=['app_id', 'title', 'date_release', 'win', 'mac', 'linux', 'rating', 'positive_ratio', 'user_reviews', 'price_final'])\n",
    "df = pd.DataFrame(data)\n",
    "df"
   ],
   "metadata": {
    "collapsed": false,
    "pycharm": {
     "name": "#%%\n"
    }
   }
  },
  {
   "cell_type": "code",
   "execution_count": 170,
   "outputs": [
    {
     "name": "stdout",
     "output_type": "stream",
     "text": [
      "Number of rows = 46068\n",
      "Number of columns = 10\n"
     ]
    },
    {
     "data": {
      "text/plain": "app_id              int64\ntitle              object\ndate_release       object\nwin                object\nmac                object\nlinux              object\nrating             object\npositive_ratio      int64\nuser_reviews        int64\nprice_final       float64\ndtype: object"
     },
     "execution_count": 170,
     "metadata": {},
     "output_type": "execute_result"
    }
   ],
   "source": [
    "print(f\"Number of rows = {df.shape[0]}\")\n",
    "print(f\"Number of columns = {df.shape[1]}\")\n",
    "df.dtypes"
   ],
   "metadata": {
    "collapsed": false,
    "pycharm": {
     "name": "#%%\n"
    }
   }
  },
  {
   "cell_type": "code",
   "execution_count": 168,
   "outputs": [
    {
     "data": {
      "text/plain": "        app_id                                         title date_release  \\\n0        10090                    Call of Duty: World at War   18.11.2008   \n1        13500             Prince of Persia: Warrior Within™   21.11.2008   \n2        22364                       BRINK: Agents of Change   03.08.2011   \n3       113020                  Monaco: What's Yours Is Mine   24.04.2013   \n4       226560                            Escape Dead Island   18.11.2014   \n...        ...                                           ...          ...   \n46063   758560                                  Versus World   30.01.2018   \n46064   886910  Bus Simulator 18 - Country Skin & Decal Pack   05.07.2018   \n46065  1477870                                     Elemental   30.03.2021   \n46066  1638430                                  Axial Disc 1   15.08.2021   \n46067  2277670                          Hank: Straightjacket   01.02.2023   \n\n          win     mac   linux           rating  positive_ratio  user_reviews  \\\n0      PRAWDA   FAŁSZ   FAŁSZ    Very Positive              92         37039   \n1      PRAWDA   FAŁSZ   FAŁSZ    Very Positive              84          2199   \n2      PRAWDA   FAŁSZ   FAŁSZ         Positive              85            21   \n3      PRAWDA  PRAWDA  PRAWDA    Very Positive              92          3722   \n4      PRAWDA   FAŁSZ   FAŁSZ            Mixed              61           873   \n...       ...     ...     ...              ...             ...           ...   \n46063  PRAWDA   FAŁSZ   FAŁSZ    Very Positive              88            87   \n46064  PRAWDA   FAŁSZ   FAŁSZ    Very Positive              88           118   \n46065  PRAWDA   FAŁSZ   FAŁSZ  Mostly Positive              78            14   \n46066  PRAWDA   FAŁSZ   FAŁSZ         Positive              95            42   \n46067  PRAWDA   FAŁSZ   FAŁSZ            Mixed              66            12   \n\n       price_final  \n0            19.99  \n1             9.99  \n2             2.99  \n3            14.99  \n4            14.99  \n...            ...  \n46063         0.00  \n46064         0.00  \n46065         0.00  \n46066         0.00  \n46067         0.00  \n\n[46068 rows x 10 columns]",
      "text/html": "<div>\n<style scoped>\n    .dataframe tbody tr th:only-of-type {\n        vertical-align: middle;\n    }\n\n    .dataframe tbody tr th {\n        vertical-align: top;\n    }\n\n    .dataframe thead th {\n        text-align: right;\n    }\n</style>\n<table border=\"1\" class=\"dataframe\">\n  <thead>\n    <tr style=\"text-align: right;\">\n      <th></th>\n      <th>app_id</th>\n      <th>title</th>\n      <th>date_release</th>\n      <th>win</th>\n      <th>mac</th>\n      <th>linux</th>\n      <th>rating</th>\n      <th>positive_ratio</th>\n      <th>user_reviews</th>\n      <th>price_final</th>\n    </tr>\n  </thead>\n  <tbody>\n    <tr>\n      <th>0</th>\n      <td>10090</td>\n      <td>Call of Duty: World at War</td>\n      <td>18.11.2008</td>\n      <td>PRAWDA</td>\n      <td>FAŁSZ</td>\n      <td>FAŁSZ</td>\n      <td>Very Positive</td>\n      <td>92</td>\n      <td>37039</td>\n      <td>19.99</td>\n    </tr>\n    <tr>\n      <th>1</th>\n      <td>13500</td>\n      <td>Prince of Persia: Warrior Within™</td>\n      <td>21.11.2008</td>\n      <td>PRAWDA</td>\n      <td>FAŁSZ</td>\n      <td>FAŁSZ</td>\n      <td>Very Positive</td>\n      <td>84</td>\n      <td>2199</td>\n      <td>9.99</td>\n    </tr>\n    <tr>\n      <th>2</th>\n      <td>22364</td>\n      <td>BRINK: Agents of Change</td>\n      <td>03.08.2011</td>\n      <td>PRAWDA</td>\n      <td>FAŁSZ</td>\n      <td>FAŁSZ</td>\n      <td>Positive</td>\n      <td>85</td>\n      <td>21</td>\n      <td>2.99</td>\n    </tr>\n    <tr>\n      <th>3</th>\n      <td>113020</td>\n      <td>Monaco: What's Yours Is Mine</td>\n      <td>24.04.2013</td>\n      <td>PRAWDA</td>\n      <td>PRAWDA</td>\n      <td>PRAWDA</td>\n      <td>Very Positive</td>\n      <td>92</td>\n      <td>3722</td>\n      <td>14.99</td>\n    </tr>\n    <tr>\n      <th>4</th>\n      <td>226560</td>\n      <td>Escape Dead Island</td>\n      <td>18.11.2014</td>\n      <td>PRAWDA</td>\n      <td>FAŁSZ</td>\n      <td>FAŁSZ</td>\n      <td>Mixed</td>\n      <td>61</td>\n      <td>873</td>\n      <td>14.99</td>\n    </tr>\n    <tr>\n      <th>...</th>\n      <td>...</td>\n      <td>...</td>\n      <td>...</td>\n      <td>...</td>\n      <td>...</td>\n      <td>...</td>\n      <td>...</td>\n      <td>...</td>\n      <td>...</td>\n      <td>...</td>\n    </tr>\n    <tr>\n      <th>46063</th>\n      <td>758560</td>\n      <td>Versus World</td>\n      <td>30.01.2018</td>\n      <td>PRAWDA</td>\n      <td>FAŁSZ</td>\n      <td>FAŁSZ</td>\n      <td>Very Positive</td>\n      <td>88</td>\n      <td>87</td>\n      <td>0.00</td>\n    </tr>\n    <tr>\n      <th>46064</th>\n      <td>886910</td>\n      <td>Bus Simulator 18 - Country Skin &amp; Decal Pack</td>\n      <td>05.07.2018</td>\n      <td>PRAWDA</td>\n      <td>FAŁSZ</td>\n      <td>FAŁSZ</td>\n      <td>Very Positive</td>\n      <td>88</td>\n      <td>118</td>\n      <td>0.00</td>\n    </tr>\n    <tr>\n      <th>46065</th>\n      <td>1477870</td>\n      <td>Elemental</td>\n      <td>30.03.2021</td>\n      <td>PRAWDA</td>\n      <td>FAŁSZ</td>\n      <td>FAŁSZ</td>\n      <td>Mostly Positive</td>\n      <td>78</td>\n      <td>14</td>\n      <td>0.00</td>\n    </tr>\n    <tr>\n      <th>46066</th>\n      <td>1638430</td>\n      <td>Axial Disc 1</td>\n      <td>15.08.2021</td>\n      <td>PRAWDA</td>\n      <td>FAŁSZ</td>\n      <td>FAŁSZ</td>\n      <td>Positive</td>\n      <td>95</td>\n      <td>42</td>\n      <td>0.00</td>\n    </tr>\n    <tr>\n      <th>46067</th>\n      <td>2277670</td>\n      <td>Hank: Straightjacket</td>\n      <td>01.02.2023</td>\n      <td>PRAWDA</td>\n      <td>FAŁSZ</td>\n      <td>FAŁSZ</td>\n      <td>Mixed</td>\n      <td>66</td>\n      <td>12</td>\n      <td>0.00</td>\n    </tr>\n  </tbody>\n</table>\n<p>46068 rows × 10 columns</p>\n</div>"
     },
     "execution_count": 168,
     "metadata": {},
     "output_type": "execute_result"
    }
   ],
   "source": [
    "df_copy = df.copy()\n",
    "df_copy"
   ],
   "metadata": {
    "collapsed": false,
    "pycharm": {
     "name": "#%%\n"
    }
   }
  },
  {
   "cell_type": "markdown",
   "source": [
    "Before continuing wait for dataset to load!\n",
    "If game is available on certain system is True, and if not it's False, text converted into numerical data 0s and 1s."
   ],
   "metadata": {
    "collapsed": false,
    "pycharm": {
     "name": "#%% md\n"
    }
   }
  },
  {
   "cell_type": "code",
   "execution_count": 169,
   "outputs": [
    {
     "data": {
      "text/plain": "        app_id                                         title date_release  \\\n0        10090                    Call of Duty: World at War   18.11.2008   \n1        13500             Prince of Persia: Warrior Within™   21.11.2008   \n2        22364                       BRINK: Agents of Change   03.08.2011   \n3       113020                  Monaco: What's Yours Is Mine   24.04.2013   \n4       226560                            Escape Dead Island   18.11.2014   \n...        ...                                           ...          ...   \n46063   758560                                  Versus World   30.01.2018   \n46064   886910  Bus Simulator 18 - Country Skin & Decal Pack   05.07.2018   \n46065  1477870                                     Elemental   30.03.2021   \n46066  1638430                                  Axial Disc 1   15.08.2021   \n46067  2277670                          Hank: Straightjacket   01.02.2023   \n\n       win  mac  linux           rating  positive_ratio  user_reviews  \\\n0        1    0      0    Very Positive              92         37039   \n1        1    0      0    Very Positive              84          2199   \n2        1    0      0         Positive              85            21   \n3        1    1      1    Very Positive              92          3722   \n4        1    0      0            Mixed              61           873   \n...    ...  ...    ...              ...             ...           ...   \n46063    1    0      0    Very Positive              88            87   \n46064    1    0      0    Very Positive              88           118   \n46065    1    0      0  Mostly Positive              78            14   \n46066    1    0      0         Positive              95            42   \n46067    1    0      0            Mixed              66            12   \n\n       price_final  \n0            19.99  \n1             9.99  \n2             2.99  \n3            14.99  \n4            14.99  \n...            ...  \n46063         0.00  \n46064         0.00  \n46065         0.00  \n46066         0.00  \n46067         0.00  \n\n[46068 rows x 10 columns]",
      "text/html": "<div>\n<style scoped>\n    .dataframe tbody tr th:only-of-type {\n        vertical-align: middle;\n    }\n\n    .dataframe tbody tr th {\n        vertical-align: top;\n    }\n\n    .dataframe thead th {\n        text-align: right;\n    }\n</style>\n<table border=\"1\" class=\"dataframe\">\n  <thead>\n    <tr style=\"text-align: right;\">\n      <th></th>\n      <th>app_id</th>\n      <th>title</th>\n      <th>date_release</th>\n      <th>win</th>\n      <th>mac</th>\n      <th>linux</th>\n      <th>rating</th>\n      <th>positive_ratio</th>\n      <th>user_reviews</th>\n      <th>price_final</th>\n    </tr>\n  </thead>\n  <tbody>\n    <tr>\n      <th>0</th>\n      <td>10090</td>\n      <td>Call of Duty: World at War</td>\n      <td>18.11.2008</td>\n      <td>1</td>\n      <td>0</td>\n      <td>0</td>\n      <td>Very Positive</td>\n      <td>92</td>\n      <td>37039</td>\n      <td>19.99</td>\n    </tr>\n    <tr>\n      <th>1</th>\n      <td>13500</td>\n      <td>Prince of Persia: Warrior Within™</td>\n      <td>21.11.2008</td>\n      <td>1</td>\n      <td>0</td>\n      <td>0</td>\n      <td>Very Positive</td>\n      <td>84</td>\n      <td>2199</td>\n      <td>9.99</td>\n    </tr>\n    <tr>\n      <th>2</th>\n      <td>22364</td>\n      <td>BRINK: Agents of Change</td>\n      <td>03.08.2011</td>\n      <td>1</td>\n      <td>0</td>\n      <td>0</td>\n      <td>Positive</td>\n      <td>85</td>\n      <td>21</td>\n      <td>2.99</td>\n    </tr>\n    <tr>\n      <th>3</th>\n      <td>113020</td>\n      <td>Monaco: What's Yours Is Mine</td>\n      <td>24.04.2013</td>\n      <td>1</td>\n      <td>1</td>\n      <td>1</td>\n      <td>Very Positive</td>\n      <td>92</td>\n      <td>3722</td>\n      <td>14.99</td>\n    </tr>\n    <tr>\n      <th>4</th>\n      <td>226560</td>\n      <td>Escape Dead Island</td>\n      <td>18.11.2014</td>\n      <td>1</td>\n      <td>0</td>\n      <td>0</td>\n      <td>Mixed</td>\n      <td>61</td>\n      <td>873</td>\n      <td>14.99</td>\n    </tr>\n    <tr>\n      <th>...</th>\n      <td>...</td>\n      <td>...</td>\n      <td>...</td>\n      <td>...</td>\n      <td>...</td>\n      <td>...</td>\n      <td>...</td>\n      <td>...</td>\n      <td>...</td>\n      <td>...</td>\n    </tr>\n    <tr>\n      <th>46063</th>\n      <td>758560</td>\n      <td>Versus World</td>\n      <td>30.01.2018</td>\n      <td>1</td>\n      <td>0</td>\n      <td>0</td>\n      <td>Very Positive</td>\n      <td>88</td>\n      <td>87</td>\n      <td>0.00</td>\n    </tr>\n    <tr>\n      <th>46064</th>\n      <td>886910</td>\n      <td>Bus Simulator 18 - Country Skin &amp; Decal Pack</td>\n      <td>05.07.2018</td>\n      <td>1</td>\n      <td>0</td>\n      <td>0</td>\n      <td>Very Positive</td>\n      <td>88</td>\n      <td>118</td>\n      <td>0.00</td>\n    </tr>\n    <tr>\n      <th>46065</th>\n      <td>1477870</td>\n      <td>Elemental</td>\n      <td>30.03.2021</td>\n      <td>1</td>\n      <td>0</td>\n      <td>0</td>\n      <td>Mostly Positive</td>\n      <td>78</td>\n      <td>14</td>\n      <td>0.00</td>\n    </tr>\n    <tr>\n      <th>46066</th>\n      <td>1638430</td>\n      <td>Axial Disc 1</td>\n      <td>15.08.2021</td>\n      <td>1</td>\n      <td>0</td>\n      <td>0</td>\n      <td>Positive</td>\n      <td>95</td>\n      <td>42</td>\n      <td>0.00</td>\n    </tr>\n    <tr>\n      <th>46067</th>\n      <td>2277670</td>\n      <td>Hank: Straightjacket</td>\n      <td>01.02.2023</td>\n      <td>1</td>\n      <td>0</td>\n      <td>0</td>\n      <td>Mixed</td>\n      <td>66</td>\n      <td>12</td>\n      <td>0.00</td>\n    </tr>\n  </tbody>\n</table>\n<p>46068 rows × 10 columns</p>\n</div>"
     },
     "execution_count": 169,
     "metadata": {},
     "output_type": "execute_result"
    }
   ],
   "source": [
    "df_copy['win'] = df_copy['win'].replace({'PRAWDA': 1, 'FAŁSZ': 0})\n",
    "df_copy['mac'] = df_copy['mac'].replace({'PRAWDA': 1, 'FAŁSZ': 0})\n",
    "df_copy['linux'] = df_copy['linux'].replace({'PRAWDA': 1, 'FAŁSZ': 0})\n",
    "\n",
    "df_copy"
   ],
   "metadata": {
    "collapsed": false,
    "pycharm": {
     "name": "#%%\n"
    }
   }
  },
  {
   "cell_type": "code",
   "execution_count": null,
   "outputs": [],
   "source": [],
   "metadata": {
    "collapsed": false,
    "pycharm": {
     "name": "#%%\n"
    }
   }
  },
  {
   "cell_type": "code",
   "execution_count": null,
   "outputs": [],
   "source": [],
   "metadata": {
    "collapsed": false,
    "pycharm": {
     "name": "#%%\n"
    }
   }
  }
 ],
 "metadata": {
  "kernelspec": {
   "display_name": "Python 3",
   "language": "python",
   "name": "python3"
  },
  "language_info": {
   "codemirror_mode": {
    "name": "ipython",
    "version": 2
   },
   "file_extension": ".py",
   "mimetype": "text/x-python",
   "name": "python",
   "nbconvert_exporter": "python",
   "pygments_lexer": "ipython2",
   "version": "2.7.6"
  }
 },
 "nbformat": 4,
 "nbformat_minor": 0
}