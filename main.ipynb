{
 "cells": [
  {
   "attachments": {},
   "cell_type": "markdown",
   "metadata": {
    "collapsed": false,
    "pycharm": {
     "name": "#%% md\n"
    }
   },
   "source": [
    "<link rel=\"preconnect\" href=\"https://fonts.googleapis.com\">\n",
    "<link rel=\"preconnect\" href=\"https://fonts.gstatic.com\" crossorigin>\n",
    "<link href=\"https://fonts.googleapis.com/css2?family=Raleway:wght@100&display=swap\" rel=\"stylesheet\">\n",
    "\n",
    "<h1 style=\"text-transform: uppercase; text-align: center; font-weight: 100;\">\n",
    "Linear regression in Tensorflow using RNN</h1>\n",
    "<p style=\"text-align: center; font-weight: 100;\">Predicting Volkswagen car prices</p><br/>\n",
    "\n",
    "Project requirements:\n",
    "- Only requirement is: minimum 10k rows\n",
    "- Any type of neural network - classical but convolutional and recurrent, better grade\n",
    "- Presentation of project, beside practical questions about model there would be also theoretical.\n",
    "The topic is free.\n",
    "\n",
    "Theory required for project presentation:\n",
    "- Practical side.\n",
    "- Discuss the scheme of an artificial neuron.\n",
    "- Activation function, why it is so important.\n",
    "- Explain how does neuron learn - steps, algorithm?\n",
    "- How does basic neural network work? (The more you know the better, as well as more complex).\n",
    "- Discuss the algorithm of neural network using backpropagation learning method. (metoda wstecznej propagacji błędów)\n",
    "- What subsets and why are the data divided into?\n",
    "Knowledge of ML, statistics."
   ]
  },
  {
   "attachments": {},
   "cell_type": "markdown",
   "metadata": {
    "collapsed": false,
    "pycharm": {
     "name": "#%% md\n"
    }
   },
   "source": [
    "Data source: data were taken from the popular Polish automotive website Otomoto (https://www.otomoto.pl/)."
   ]
  },
  {
   "attachments": {},
   "cell_type": "markdown",
   "metadata": {
    "pycharm": {
     "name": "#%% md\n"
    }
   },
   "source": [
    "1. Import libraries and create dataframe:"
   ]
  },
  {
   "cell_type": "code",
   "execution_count": 60,
   "metadata": {
    "collapsed": true,
    "pycharm": {
     "name": "#%%\n"
    }
   },
   "outputs": [
    {
     "name": "stdout",
     "output_type": "stream",
     "text": [
      "np: 1.23.2, pd: 1.4.4, tf: 2.11.0, mpl: 3.5.3, sb: 0.12.1, sm: 0.13.2, sl: 1.0.2\n",
      "Libs loaded.\n",
      "Data technical info\n",
      "<class 'pandas.core.frame.DataFrame'>\n",
      "RangeIndex: 14915 entries, 0 to 14914\n",
      "Data columns (total 7 columns):\n",
      " #   Column         Non-Null Count  Dtype\n",
      "---  ------         --------------  -----\n",
      " 0   Price          14915 non-null  int64\n",
      " 1   Year           14915 non-null  int64\n",
      " 2   Mileage        14915 non-null  int64\n",
      " 3   Tank capacity  14915 non-null  int64\n",
      " 4   Fuel type      14915 non-null  int64\n",
      " 5   Model          14915 non-null  int64\n",
      " 6   Estimation     14915 non-null  int64\n",
      "dtypes: int64(7)\n",
      "memory usage: 815.8 KB\n"
     ]
    },
    {
     "data": {
      "text/plain": "        Price  Year  Mileage  Tank capacity  Fuel type  Model  Estimation\n0       24900  2010   166000           1390          1     16           0\n1       16500  2007   194000           1968          7     39           0\n2      364510  2022     5400           1968          7      8           0\n3        9999  2005   196425           1390          1     35           2\n4       39900  2010   227000           1968          7     32           0\n...       ...   ...      ...            ...        ...    ...         ...\n14910  119500  2020    52000           1498          1     41           2\n14911   31000  2002   511000           2461          7      9           0\n14912   23500  2011   223000           1390          1     16           1\n14913   29800  2012   190000           1598          7     16           2\n14914   67600  1998   234700           2461          7      9           0\n\n[14915 rows x 7 columns]",
      "text/html": "<div>\n<style scoped>\n    .dataframe tbody tr th:only-of-type {\n        vertical-align: middle;\n    }\n\n    .dataframe tbody tr th {\n        vertical-align: top;\n    }\n\n    .dataframe thead th {\n        text-align: right;\n    }\n</style>\n<table border=\"1\" class=\"dataframe\">\n  <thead>\n    <tr style=\"text-align: right;\">\n      <th></th>\n      <th>Price</th>\n      <th>Year</th>\n      <th>Mileage</th>\n      <th>Tank capacity</th>\n      <th>Fuel type</th>\n      <th>Model</th>\n      <th>Estimation</th>\n    </tr>\n  </thead>\n  <tbody>\n    <tr>\n      <th>0</th>\n      <td>24900</td>\n      <td>2010</td>\n      <td>166000</td>\n      <td>1390</td>\n      <td>1</td>\n      <td>16</td>\n      <td>0</td>\n    </tr>\n    <tr>\n      <th>1</th>\n      <td>16500</td>\n      <td>2007</td>\n      <td>194000</td>\n      <td>1968</td>\n      <td>7</td>\n      <td>39</td>\n      <td>0</td>\n    </tr>\n    <tr>\n      <th>2</th>\n      <td>364510</td>\n      <td>2022</td>\n      <td>5400</td>\n      <td>1968</td>\n      <td>7</td>\n      <td>8</td>\n      <td>0</td>\n    </tr>\n    <tr>\n      <th>3</th>\n      <td>9999</td>\n      <td>2005</td>\n      <td>196425</td>\n      <td>1390</td>\n      <td>1</td>\n      <td>35</td>\n      <td>2</td>\n    </tr>\n    <tr>\n      <th>4</th>\n      <td>39900</td>\n      <td>2010</td>\n      <td>227000</td>\n      <td>1968</td>\n      <td>7</td>\n      <td>32</td>\n      <td>0</td>\n    </tr>\n    <tr>\n      <th>...</th>\n      <td>...</td>\n      <td>...</td>\n      <td>...</td>\n      <td>...</td>\n      <td>...</td>\n      <td>...</td>\n      <td>...</td>\n    </tr>\n    <tr>\n      <th>14910</th>\n      <td>119500</td>\n      <td>2020</td>\n      <td>52000</td>\n      <td>1498</td>\n      <td>1</td>\n      <td>41</td>\n      <td>2</td>\n    </tr>\n    <tr>\n      <th>14911</th>\n      <td>31000</td>\n      <td>2002</td>\n      <td>511000</td>\n      <td>2461</td>\n      <td>7</td>\n      <td>9</td>\n      <td>0</td>\n    </tr>\n    <tr>\n      <th>14912</th>\n      <td>23500</td>\n      <td>2011</td>\n      <td>223000</td>\n      <td>1390</td>\n      <td>1</td>\n      <td>16</td>\n      <td>1</td>\n    </tr>\n    <tr>\n      <th>14913</th>\n      <td>29800</td>\n      <td>2012</td>\n      <td>190000</td>\n      <td>1598</td>\n      <td>7</td>\n      <td>16</td>\n      <td>2</td>\n    </tr>\n    <tr>\n      <th>14914</th>\n      <td>67600</td>\n      <td>1998</td>\n      <td>234700</td>\n      <td>2461</td>\n      <td>7</td>\n      <td>9</td>\n      <td>0</td>\n    </tr>\n  </tbody>\n</table>\n<p>14915 rows × 7 columns</p>\n</div>"
     },
     "execution_count": 60,
     "metadata": {},
     "output_type": "execute_result"
    }
   ],
   "source": [
    "import sklearn as sl\n",
    "import numpy as np\n",
    "import pandas as pd\n",
    "import matplotlib as mpl\n",
    "import matplotlib.pyplot as plt\n",
    "import seaborn as sns\n",
    "import statsmodels as sm\n",
    "import tensorflow as tf\n",
    "import keras.utils\n",
    "from sklearn.model_selection import train_test_split\n",
    "# from model import VolkswagenModel\n",
    "# from colorama import init, Fore, Style\n",
    "\n",
    "print(f\"np: {np.__version__}, pd: {pd.__version__}, tf: {tf.__version__}, mpl: {mpl.__version__}, sb: {sns.__version__}, sm: {sm.__version__}, sl: {sl.__version__}\")\n",
    "print(\"Libs loaded.\")\n",
    "\n",
    "data = pd.read_csv(\"./data/otomoto.csv\")\n",
    "df = pd.DataFrame(data)\n",
    "df = df.drop(df.columns[0], axis=1)\n",
    "df.columns = ['Price', 'Year', 'Mileage', 'Tank capacity', 'Fuel type', 'Model', 'Estimation']\n",
    "print(\"Data technical info\")\n",
    "df.info()\n",
    "df"
   ]
  },
  {
   "cell_type": "code",
   "execution_count": 61,
   "outputs": [
    {
     "data": {
      "text/plain": "               Price          Year        Mileage  Tank capacity  \\\ncount   14915.000000  14915.000000   14915.000000   14915.000000   \nmean    61420.578478   2012.424137  172886.681931    1755.932618   \nstd     61593.454821      6.757177  100170.759677     395.745487   \nmin      1500.000000   1958.000000       1.000000      77.000000   \n25%     20000.000000   2008.000000  104343.000000    1498.000000   \n50%     41999.000000   2013.000000  177000.000000    1896.000000   \n75%     82900.000000   2018.000000  234350.000000    1968.000000   \nmax    570000.000000   2023.000000  700000.000000    5998.000000   \n\n          Fuel type         Model    Estimation  \ncount  14915.000000  14915.000000  14915.000000  \nmean       4.436876     27.893530      1.410325  \nstd        2.952525     13.300906      1.071621  \nmin        1.000000      1.000000      0.000000  \n25%        1.000000     16.000000      0.000000  \n50%        7.000000     32.000000      2.000000  \n75%        7.000000     39.000000      2.000000  \nmax        7.000000     50.000000      3.000000  ",
      "text/html": "<div>\n<style scoped>\n    .dataframe tbody tr th:only-of-type {\n        vertical-align: middle;\n    }\n\n    .dataframe tbody tr th {\n        vertical-align: top;\n    }\n\n    .dataframe thead th {\n        text-align: right;\n    }\n</style>\n<table border=\"1\" class=\"dataframe\">\n  <thead>\n    <tr style=\"text-align: right;\">\n      <th></th>\n      <th>Price</th>\n      <th>Year</th>\n      <th>Mileage</th>\n      <th>Tank capacity</th>\n      <th>Fuel type</th>\n      <th>Model</th>\n      <th>Estimation</th>\n    </tr>\n  </thead>\n  <tbody>\n    <tr>\n      <th>count</th>\n      <td>14915.000000</td>\n      <td>14915.000000</td>\n      <td>14915.000000</td>\n      <td>14915.000000</td>\n      <td>14915.000000</td>\n      <td>14915.000000</td>\n      <td>14915.000000</td>\n    </tr>\n    <tr>\n      <th>mean</th>\n      <td>61420.578478</td>\n      <td>2012.424137</td>\n      <td>172886.681931</td>\n      <td>1755.932618</td>\n      <td>4.436876</td>\n      <td>27.893530</td>\n      <td>1.410325</td>\n    </tr>\n    <tr>\n      <th>std</th>\n      <td>61593.454821</td>\n      <td>6.757177</td>\n      <td>100170.759677</td>\n      <td>395.745487</td>\n      <td>2.952525</td>\n      <td>13.300906</td>\n      <td>1.071621</td>\n    </tr>\n    <tr>\n      <th>min</th>\n      <td>1500.000000</td>\n      <td>1958.000000</td>\n      <td>1.000000</td>\n      <td>77.000000</td>\n      <td>1.000000</td>\n      <td>1.000000</td>\n      <td>0.000000</td>\n    </tr>\n    <tr>\n      <th>25%</th>\n      <td>20000.000000</td>\n      <td>2008.000000</td>\n      <td>104343.000000</td>\n      <td>1498.000000</td>\n      <td>1.000000</td>\n      <td>16.000000</td>\n      <td>0.000000</td>\n    </tr>\n    <tr>\n      <th>50%</th>\n      <td>41999.000000</td>\n      <td>2013.000000</td>\n      <td>177000.000000</td>\n      <td>1896.000000</td>\n      <td>7.000000</td>\n      <td>32.000000</td>\n      <td>2.000000</td>\n    </tr>\n    <tr>\n      <th>75%</th>\n      <td>82900.000000</td>\n      <td>2018.000000</td>\n      <td>234350.000000</td>\n      <td>1968.000000</td>\n      <td>7.000000</td>\n      <td>39.000000</td>\n      <td>2.000000</td>\n    </tr>\n    <tr>\n      <th>max</th>\n      <td>570000.000000</td>\n      <td>2023.000000</td>\n      <td>700000.000000</td>\n      <td>5998.000000</td>\n      <td>7.000000</td>\n      <td>50.000000</td>\n      <td>3.000000</td>\n    </tr>\n  </tbody>\n</table>\n</div>"
     },
     "execution_count": 61,
     "metadata": {},
     "output_type": "execute_result"
    }
   ],
   "source": [
    "description = df.describe()\n",
    "description"
   ],
   "metadata": {
    "collapsed": false,
    "pycharm": {
     "name": "#%%\n"
    }
   }
  },
  {
   "cell_type": "code",
   "execution_count": 62,
   "outputs": [
    {
     "name": "stdout",
     "output_type": "stream",
     "text": [
      "Checked: (0, 0)\n",
      "Checked: (0, 1)\n",
      "Checked: (0, 2)\n",
      "Checked: (0, 3)\n",
      "Checked: (0, 4)\n",
      "Checked: (0, 5)\n",
      "Checked: (0, 6)\n",
      "All columns passed\n"
     ]
    }
   ],
   "source": [
    "check = 14915\n",
    "flag = True\n",
    "for i in range(description.shape[1]):\n",
    "    if description.iloc[0, i] != check:\n",
    "        print(\"Number of occurrences of data is not equal for every label.\")\n",
    "        print(f\"Problem at cell: (0, {i})\")\n",
    "        flag = False\n",
    "        continue\n",
    "    else:\n",
    "        print(f\"Checked: (0, {i})\")\n",
    "\n",
    "print(\"All columns passed\" if flag == True else \"Not passed\")"
   ],
   "metadata": {
    "collapsed": false,
    "pycharm": {
     "name": "#%%\n"
    }
   }
  },
  {
   "attachments": {},
   "cell_type": "markdown",
   "metadata": {
    "pycharm": {
     "name": "#%% md\n"
    }
   },
   "source": [
    "2. Clean data:\n",
    "\n",
    "    Data was cleaned previously in 'scratchpad.py' file and now all the records are represented by integers(documentation of each column values is located in 'model.py' file). Values ​​of 0 represent an error in reading data. Column \"Estimation\" contains a lot of 0 values, but this is due to the fact that not every article on the website contained such information."
   ]
  },
  {
   "cell_type": "code",
   "execution_count": 63,
   "metadata": {
    "pycharm": {
     "name": "#%%\n"
    }
   },
   "outputs": [
    {
     "name": "stdout",
     "output_type": "stream",
     "text": [
      "0\n",
      "Price            0\n",
      "Year             0\n",
      "Mileage          0\n",
      "Tank capacity    0\n",
      "Fuel type        0\n",
      "Model            0\n",
      "Estimation       0\n",
      "dtype: int64\n"
     ]
    }
   ],
   "source": [
    "# counter = 0\n",
    "# for index, row in df.iterrows():\n",
    "#     if row[\"Price\"] == 0 or row[\"Year\"] == 0 or row[\"Mileage\"] == 0 or row[\"Tank capacity\"] == 0 or row[\"Model\"] == 0:\n",
    "#         counter += 1\n",
    "# print(counter)\n",
    "\n",
    "if (df.isna()).sum() == 0:\n",
    "    print(\"0 NaN values\")\n",
    "else:\n",
    "    df = df.dropna()\n",
    "    print(\"All rows with NaN values were dropped\")\n",
    "\n",
    "\n",
    "mask = (df['Price'] == 0) | (df['B'] == 0)\n",
    "\n",
    "\n",
    "# if (df.eq(0)).sum() == 0:\n",
    "#     print(\"0 zeros values\")\n",
    "# else:\n",
    "#\n",
    "#\n",
    "#     print(\"All rows with 0 values were dropped\")\n",
    "\n",
    "\n",
    "\n",
    "# TO FIX\n",
    "# TO FIX\n",
    "# TO FIX"
   ]
  },
  {
   "cell_type": "markdown",
   "source": [
    "\n",
    "Getting know data, analyzing dependencies\n"
   ],
   "metadata": {
    "collapsed": false,
    "pycharm": {
     "name": "#%% md\n"
    }
   }
  },
  {
   "attachments": {},
   "cell_type": "markdown",
   "metadata": {
    "pycharm": {
     "name": "#%% md\n"
    }
   },
   "source": [
    "Histograms"
   ]
  },
  {
   "cell_type": "code",
   "execution_count": null,
   "outputs": [],
   "source": [
    "def make_hist(col_name, bins_val):\n",
    "    min = df[col_name].min()\n",
    "    max = df[col_name].max()\n",
    "    print(f\"Lowest {col_name} value: {min}. Highest {col_name} value: {max}.\")\n",
    "    plot_hist = df[col_name].plot.hist(bins=bins_val, grid=True)\n",
    "    plot_hist.set_title(f\"Represents number of cars for each production {col_name.upper()} category\")\n",
    "    plot_hist.set_xlabel(f\"{col_name}\")\n",
    "    plot_hist.set_ylabel(\"Number of observations\")\n",
    "    plt.show()"
   ],
   "metadata": {
    "collapsed": false,
    "pycharm": {
     "name": "#%%\n"
    }
   }
  },
  {
   "cell_type": "code",
   "execution_count": null,
   "metadata": {
    "pycharm": {
     "name": "#%%\n"
    }
   },
   "outputs": [],
   "source": [
    "make_hist(\"Price\", 57)"
   ]
  },
  {
   "cell_type": "code",
   "execution_count": null,
   "metadata": {
    "pycharm": {
     "name": "#%%\n"
    }
   },
   "outputs": [],
   "source": [
    "min = df[\"Year\"].min()\n",
    "max = df[\"Year\"].max()\n",
    "make_hist(\"Year\", max-min)"
   ]
  },
  {
   "cell_type": "code",
   "execution_count": null,
   "metadata": {
    "pycharm": {
     "name": "#%%\n"
    }
   },
   "outputs": [],
   "source": [
    "make_hist(\"Mileage\", 70)"
   ]
  },
  {
   "cell_type": "code",
   "execution_count": null,
   "metadata": {
    "pycharm": {
     "name": "#%%\n"
    }
   },
   "outputs": [],
   "source": [
    "make_hist(\"Tank capacity\", 10) # default bins = 10\n",
    "\n",
    "# Trzeba jeszcze dopasować przedziały"
   ]
  },
  {
   "cell_type": "code",
   "execution_count": null,
   "outputs": [],
   "source": [
    "make_hist(\"Fuel type\", 10) # default bins = 10"
   ],
   "metadata": {
    "collapsed": false,
    "pycharm": {
     "name": "#%%\n"
    }
   }
  },
  {
   "cell_type": "code",
   "execution_count": null,
   "outputs": [],
   "source": [
    "NO_cars_fuel = df['Fuel type'].value_counts().reset_index()\n",
    "NO_cars_fuel = NO_cars_fuel.rename(columns={'index': 'type of fuel', 'Fuel type': 'NO of cars with specific fuel type'})\n",
    "# NaN\n",
    "# d = {\"Benzyna\": 1, \"Benzyna+LPG\": 2, \"Benzyna+CNG\": 3, \"Elektryczny\": 4, \"Hybryda\": 5, \"Wodór\": 6, \"Diesel\": 7}\n",
    "# unique_values['name of fuel'] = unique_values['type of fuel'].map(d)\n",
    "NO_cars_fuel"
   ],
   "metadata": {
    "collapsed": false,
    "pycharm": {
     "name": "#%%\n"
    }
   }
  },
  {
   "cell_type": "code",
   "execution_count": null,
   "outputs": [],
   "source": [
    "make_hist(\"Model\", 29)"
   ],
   "metadata": {
    "collapsed": false,
    "pycharm": {
     "name": "#%%\n"
    }
   }
  },
  {
   "cell_type": "code",
   "execution_count": null,
   "outputs": [],
   "source": [
    "make_hist(\"Estimation\", 10) # default bins = 10"
   ],
   "metadata": {
    "collapsed": false,
    "pycharm": {
     "name": "#%%\n"
    }
   }
  },
  {
   "cell_type": "markdown",
   "source": [
    "Distribution of cars per column per certain category from column in numbers."
   ],
   "metadata": {
    "collapsed": false,
    "pycharm": {
     "name": "#%% md\n"
    }
   }
  },
  {
   "cell_type": "code",
   "execution_count": null,
   "outputs": [],
   "source": [
    "# pr = df['Price'].value_counts().reset_index()\n",
    "# yr = df['Year'].value_counts().reset_index()\n",
    "# mil = df['Mileage'].value_counts().reset_index()\n",
    "# tank = df['Tank capacity'].value_counts().reset_index()\n",
    "# fuel = df['Fuel type'].value_counts().reset_index()\n",
    "mod = df['Model'].value_counts().reset_index()\n",
    "est = df['Estimation'].value_counts().reset_index()\n",
    "\n",
    "# pr = pr.rename(columns={'index': 'price_cat', 'Price': 'NO_cars'})\n",
    "# yr = yr.rename(columns={'index': 'year_cat', 'Year': 'NO_cars'})\n",
    "# mil = mil.rename(columns={'index': 'mileage_cat', 'Mileage': 'NO_cars'})\n",
    "# tank = tank.rename(columns={'index': 'tank_capacity', 'Tank capacity': 'NO_cars'})\n",
    "# fuel = fuel.rename(columns={'index': 'type_fuel', 'Fuel type': 'NO_cars'})\n",
    "mod = mod.rename(columns={'index': 'type_model', 'Model': 'NO_cars'})\n",
    "est = est.rename(columns={'index': 'type_est', 'Estimation': 'NO_cars'})\n",
    "\n",
    "def create_table(table_data, table_title):\n",
    "    fig = plt.figure()\n",
    "    table = plt.table(cellText=table_data.values, colLabels=table_data.columns, loc='upper left')\n",
    "    table.auto_set_font_size(False)\n",
    "    table.set_fontsize(14)\n",
    "    table.scale(1, 1.5)\n",
    "    plt.subplots_adjust(left=0.2, bottom=0.2)\n",
    "    plt.title(table_title)\n",
    "    plt.axis('off')\n",
    "    return fig\n",
    "\n",
    "# table1 = create_table(pr, \"Pr\")\n",
    "# table2 = create_table(yr, \"Yr\")\n",
    "# table3 = create_table(mil, \"Mil\")\n",
    "# table4 = create_table(tank, \"Tank\")\n",
    "# table5 = create_table(fuel, \"Fuel\")\n",
    "table6 = create_table(mod, \"Mod\")\n",
    "table7 = create_table(est, \"Est\")"
   ],
   "metadata": {
    "collapsed": false,
    "pycharm": {
     "name": "#%%\n"
    }
   }
  },
  {
   "cell_type": "markdown",
   "source": [
    "Box plots"
   ],
   "metadata": {
    "collapsed": false,
    "pycharm": {
     "name": "#%% md\n"
    }
   }
  },
  {
   "cell_type": "code",
   "execution_count": null,
   "outputs": [],
   "source": [
    "for i, column in enumerate(df.columns):\n",
    "    fig, ax = plt.subplots()\n",
    "    sns.boxplot(data=df[column], ax=ax).set(title=f\"{column.upper()} boxplot\", xlabel=f\"{column}\", ylabel=f\"Value of {column}\")\n",
    "    ax.set_title(column)\n",
    "    sns.despine()\n",
    "    plt.show()\n"
   ],
   "metadata": {
    "collapsed": false,
    "pycharm": {
     "name": "#%%\n"
    }
   }
  },
  {
   "cell_type": "code",
   "execution_count": null,
   "outputs": [],
   "source": [
    "# for i in df.columns[:-1]:\n",
    "    # fig, axs = plt.subplots(3, 1, figsize=(10,7))\n",
    "    # sns.boxplot(x=df[\"Price\"], y=df[i], ax=axs[0])\n",
    "    # plt.plot()\n",
    "print(\"BEFORE\")\n",
    "print(df)\n",
    "price = df[\"Price\"]\n",
    "q1=price.quantile(0.25)\n",
    "q3=price.quantile(0.75)\n",
    "\n",
    "print(\"The value of q1 is:\",q1)\n",
    "print(\"The value of q3 is:\",q3)\n",
    "\n",
    "iqr = q3 - q1\n",
    "print(\"The value of iqr is:\",iqr)\n",
    "\n",
    "upper=q1-1.5*iqr\n",
    "lower=q3+1.5*iqr\n",
    "\n",
    "print(\"The value of upper bound is:\",round(upper))\n",
    "print(\"The value of lower bound is:\",round(lower))\n",
    "\n",
    "clean_data=price[~((price < upper) | (price > lower))]\n",
    "print(clean_data)\n",
    "df.loc[:, \"Price\"] = clean_data\n",
    "print(\"AFTER\")\n",
    "print(df[\"Price\"])\n",
    "\n",
    "sns.boxplot(df[\"Price\"]).set(title=\"PRICE boxplot\", xlabel=\"Price\", ylabel=\"Value of Price\")\n",
    "sns.despine()\n",
    "\n",
    "# FIX\n",
    "# FIX\n",
    "# FIX"
   ],
   "metadata": {
    "collapsed": false,
    "pycharm": {
     "name": "#%%\n"
    }
   }
  },
  {
   "cell_type": "markdown",
   "source": [
    "Heat Map"
   ],
   "metadata": {
    "collapsed": false,
    "pycharm": {
     "name": "#%% md\n"
    }
   }
  },
  {
   "cell_type": "code",
   "execution_count": null,
   "outputs": [],
   "source": [
    "correlation_matrix = np.corrcoef(df.values.T)\n",
    "\n",
    "fig, ax = plt.subplots(figsize=(7, 7))\n",
    "sns.set(font_scale=1.1)\n",
    "sns.heatmap(data=correlation_matrix, square=True, cbar=True, annot=True, annot_kws={'size': 10}, xticklabels=df.columns, yticklabels=df.columns, fmt=\".2f\", linewidth=.5, cmap=sns.cubehelix_palette(as_cmap=True))\n",
    "\n",
    "print(df.head())"
   ],
   "metadata": {
    "collapsed": false,
    "pycharm": {
     "name": "#%%\n"
    }
   }
  },
  {
   "cell_type": "markdown",
   "source": [
    "Building model"
   ],
   "metadata": {
    "collapsed": false,
    "pycharm": {
     "name": "#%% md\n"
    }
   }
  },
  {
   "cell_type": "markdown",
   "source": [
    "Outlier detection"
   ],
   "metadata": {
    "collapsed": false,
    "pycharm": {
     "name": "#%% md\n"
    }
   }
  },
  {
   "cell_type": "code",
   "execution_count": null,
   "outputs": [],
   "source": [
    "# https://www.kaggle.com/code/durgeshrao9993/removing-outliers-by-iqr-method\n",
    "\n",
    "for i, column in enumerate(df.columns):\n"
   ],
   "metadata": {
    "collapsed": false,
    "pycharm": {
     "name": "#%%\n"
    }
   }
  },
  {
   "cell_type": "code",
   "execution_count": null,
   "outputs": [],
   "source": [
    "sns.boxplot(df['Price']).set(title=\"PRICE boxplot\", xlabel=\"Price\", ylabel=\"Value of Price\")\n",
    "sns.despine()"
   ],
   "metadata": {
    "collapsed": false,
    "pycharm": {
     "name": "#%%\n"
    }
   }
  },
  {
   "cell_type": "markdown",
   "source": [
    "Heat Map - after outlier detection"
   ],
   "metadata": {
    "collapsed": false,
    "pycharm": {
     "name": "#%% md\n"
    }
   }
  },
  {
   "cell_type": "code",
   "execution_count": null,
   "outputs": [],
   "source": [],
   "metadata": {
    "collapsed": false,
    "pycharm": {
     "name": "#%%\n"
    }
   }
  },
  {
   "cell_type": "markdown",
   "source": [
    "Normalization / Scaling"
   ],
   "metadata": {
    "collapsed": false,
    "pycharm": {
     "name": "#%% md\n"
    }
   }
  },
  {
   "cell_type": "code",
   "execution_count": null,
   "outputs": [],
   "source": [
    "# Normalization - we change the distribution of data, not the range of data like it is done in scaling. The point is to change your observations so that they can be described as a normal distribution.\n",
    "# Normalization should be done after splitting into train and test data sets!!!\n",
    "# https://keras.io/api/layers/preprocessing_layers/numerical/normalization/\n",
    "\n",
    "# X = df.drop(['Price'], axis=1)\n",
    "# y = df['Price']\n",
    "# X_train, X_val, y_train, y_val = train_test_split(X, y, test_size=0.2, random_state=42)\n",
    "\n",
    "\n",
    "# convert dataframe to numpy array\n",
    "values = df.values\n",
    "normalized_values = keras.utils.normalize(values, axis=0)\n",
    "df_normalized = pd.DataFrame(normalized_values, columns=df.columns)\n",
    "print(\"Normalization done\")"
   ],
   "metadata": {
    "collapsed": false,
    "pycharm": {
     "name": "#%%\n"
    }
   }
  },
  {
   "cell_type": "markdown",
   "source": [
    "Heat Map - after normalization"
   ],
   "metadata": {
    "collapsed": false,
    "pycharm": {
     "name": "#%% md\n"
    }
   }
  },
  {
   "cell_type": "code",
   "execution_count": null,
   "outputs": [],
   "source": [
    "correlation_matrix = np.corrcoef(df_normalized.values.T)\n",
    "\n",
    "fig, ax = plt.subplots(figsize=(7, 7))\n",
    "sns.set(font_scale=1.1)\n",
    "sns.heatmap(data=correlation_matrix, square=True, cbar=True, annot=True, annot_kws={'size': 10}, xticklabels=df.columns, yticklabels=df.columns, fmt=\".2f\", linewidth=.5, cmap=sns.cubehelix_palette(as_cmap=True))\n",
    "\n",
    "print(df_normalized.head())"
   ],
   "metadata": {
    "collapsed": false,
    "pycharm": {
     "name": "#%%\n"
    }
   }
  },
  {
   "cell_type": "markdown",
   "source": [
    "Pair plot"
   ],
   "metadata": {
    "collapsed": false,
    "pycharm": {
     "name": "#%% md\n"
    }
   }
  },
  {
   "cell_type": "code",
   "execution_count": null,
   "outputs": [],
   "source": [
    "sns.pairplot(df, height=1.5)"
   ],
   "metadata": {
    "collapsed": false,
    "pycharm": {
     "name": "#%%\n"
    }
   }
  },
  {
   "cell_type": "markdown",
   "source": [
    "Splitting data into sets"
   ],
   "metadata": {
    "collapsed": false,
    "pycharm": {
     "name": "#%% md\n"
    }
   }
  },
  {
   "cell_type": "code",
   "execution_count": null,
   "outputs": [],
   "source": [
    "X = df.drop(['Price'], axis=1)\n",
    "y = df['Price']"
   ],
   "metadata": {
    "collapsed": false,
    "pycharm": {
     "name": "#%%\n"
    }
   }
  },
  {
   "cell_type": "code",
   "execution_count": null,
   "outputs": [],
   "source": [
    "data_size = len(df)\n",
    "test_size = int(data_size * 0.2)  # 20% danych przeznaczamy na zbiór testowy\n",
    "train_size = data_size - test_size\n",
    "\n",
    "\n",
    "data = tf.data.Dataset.from_tensor_slices((X.values, y.values))\n",
    "data = data.shuffle(buffer_size=data_size, reshuffle_each_iteration=True) # randomize data after each iteration (epoch)\n",
    "\n",
    "\n",
    "# Helps to optimize code by dividing datasets into batches, portion of data instead of individual processing.\n",
    "train_data = data.take(train_size).batch(32)\n",
    "test_data = data.skip(train_size).take(test_size).batch(32)\n",
    "X_train, y_train = next(iter(train_data))\n",
    "X_test, y_test = next(iter(test_data))\n",
    "\n",
    "\n",
    "# Print length of datasets portions\n",
    "print(f\"X_train len = {len(X_train)}\")\n",
    "print(f\"y_train len = {len(y_train)}\")\n",
    "print(f\"X_test len = {len(X_test)}\")\n",
    "print(f\"y_test len = {len(y_test)}\")\n",
    "\n",
    "\n",
    "# Print datasets portions\n",
    "# print('X_train = ', X_train)\n",
    "# print('y_train = ', y_train)\n",
    "# print('X_test = ', X_test)\n",
    "# print('y_test = ', y_test)"
   ],
   "metadata": {
    "collapsed": false,
    "pycharm": {
     "name": "#%%\n"
    }
   }
  },
  {
   "cell_type": "code",
   "execution_count": null,
   "outputs": [],
   "source": [
    "# Could be also use with similar effect as above cell as ScikitLearn way - without batches\n",
    "# X_train, X_val, y_train, y_val = train_test_split(X, y, test_size=0.2, random_state=42)"
   ],
   "metadata": {
    "collapsed": false,
    "pycharm": {
     "name": "#%%\n"
    }
   }
  },
  {
   "cell_type": "markdown",
   "source": [
    "Model Architecture"
   ],
   "metadata": {
    "collapsed": false,
    "pycharm": {
     "name": "#%% md\n"
    }
   }
  },
  {
   "cell_type": "code",
   "execution_count": null,
   "outputs": [],
   "source": [
    "# https://www.tensorflow.org/guide/keras/rnn?hl=pl\n",
    "# https://www.ibm.com/topics/recurrent-neural-networks\n",
    "\n",
    "model = tf.keras.Sequential([\n",
    "    tf.keras.layers.LSTM(64, input_shape=(None, X_train.shape[-1])), # type of recurrent neural network\n",
    "    tf.keras.layers.Dense(32, activation='relu'),\n",
    "    tf.keras.layers.Dense(1)\n",
    "])\n",
    "\n",
    "# Equivalent to:\n",
    "# input_layer = tf.keras.layers.Input(shape=(None, X_train.shape[-1]))\n",
    "# lstm_layer = tf.keras.layers.LSTM(64)(input_layer)\n",
    "# dense_layer_1 = tf.keras.layers.Dense(32, activation='relu')(lstm_layer)\n",
    "# output_layer = tf.keras.layers.Dense(1)(dense_layer_1)\n",
    "# model = tf.keras.models.Model(inputs=input_layer, outputs=output_layer)"
   ],
   "metadata": {
    "collapsed": false,
    "pycharm": {
     "name": "#%%\n"
    }
   }
  },
  {
   "cell_type": "markdown",
   "source": [
    "Training the model"
   ],
   "metadata": {
    "collapsed": false,
    "pycharm": {
     "name": "#%% md\n"
    }
   }
  },
  {
   "cell_type": "markdown",
   "source": [],
   "metadata": {
    "collapsed": false,
    "pycharm": {
     "name": "#%% md\n"
    }
   }
  },
  {
   "cell_type": "code",
   "execution_count": null,
   "outputs": [],
   "source": [
    "model.compile(\n",
    "\n",
    ")\n",
    "\n",
    "model.fit(\n",
    "\n",
    "\n",
    ")"
   ],
   "metadata": {
    "collapsed": false,
    "pycharm": {
     "name": "#%%\n"
    }
   }
  },
  {
   "cell_type": "markdown",
   "source": [
    "Evaluating the model"
   ],
   "metadata": {
    "collapsed": false,
    "pycharm": {
     "name": "#%% md\n"
    }
   }
  },
  {
   "cell_type": "code",
   "execution_count": null,
   "outputs": [],
   "source": [
    "print(\"Evaluate on test data\")\n",
    "loss, accuracy = model.evaluate()\n",
    "print(f\"test loss = {loss}, test acc = {accuracy}\")\n",
    "\n",
    "# WYKRED WARTOŚCI RESZTOWYCH - R2 method"
   ],
   "metadata": {
    "collapsed": false,
    "pycharm": {
     "name": "#%%\n"
    }
   }
  },
  {
   "cell_type": "markdown",
   "source": [
    "### Possible DEPLOY - docker, github"
   ],
   "metadata": {
    "collapsed": false,
    "pycharm": {
     "name": "#%% md\n"
    }
   }
  }
 ],
 "metadata": {
  "kernelspec": {
   "display_name": "Python 3",
   "language": "python",
   "name": "python3"
  },
  "language_info": {
   "codemirror_mode": {
    "name": "ipython",
    "version": 3
   },
   "file_extension": ".py",
   "mimetype": "text/x-python",
   "name": "python",
   "nbconvert_exporter": "python",
   "pygments_lexer": "ipython3",
   "version": "3.10.10"
  }
 },
 "nbformat": 4,
 "nbformat_minor": 0
}